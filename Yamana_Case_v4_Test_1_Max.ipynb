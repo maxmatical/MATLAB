{
  "nbformat": 4,
  "nbformat_minor": 0,
  "metadata": {
    "colab": {
      "name": "Yamana Case v4 - Test 1 -  Max.ipynb",
      "version": "0.3.2",
      "provenance": [],
      "collapsed_sections": [
        "Egh3bvn6rtbl",
        "W9fBpkgLtbof",
        "xBwMhJ6phe5R",
        "r0-aDO0W4BY-",
        "wiRhetithh5y",
        "-kVgDJysRRbA"
      ],
      "toc_visible": true,
      "include_colab_link": true
    },
    "kernelspec": {
      "name": "python3",
      "display_name": "Python 3"
    },
    "accelerator": "GPU"
  },
  "cells": [
    {
      "cell_type": "markdown",
      "metadata": {
        "id": "view-in-github",
        "colab_type": "text"
      },
      "source": [
        "<a href=\"https://colab.research.google.com/github/maxmatical/MATLAB/blob/master/Yamana_Case_v4_Test_1_Max.ipynb\" target=\"_parent\"><img src=\"https://colab.research.google.com/assets/colab-badge.svg\" alt=\"Open In Colab\"/></a>"
      ]
    },
    {
      "metadata": {
        "id": "SlbyUNERH43o",
        "colab_type": "text"
      },
      "cell_type": "markdown",
      "source": [
        "## Steps taken in this notebook\n",
        "\n",
        "1. use all features (excluding the highly correlated ones)\n",
        "2. try LR and RF (tuned)\n",
        "    - add feature importance\n",
        "3. Try steps 1 and 2 on the dataset after dropping missing target values\n",
        "\n",
        "\n",
        "## New idea\n",
        "Try using shap https://github.com/slundberg/shap for model interpretation\n",
        "\n",
        "## Values below detection limit\n",
        "- Currently just removing the \"<\"\n",
        "- Future steps:\n",
        "    - Separate values below detection limit into another df\n",
        "    - Use half the detection limit value or use other methods to estimate values\n",
        "    - concatenate together to get full df"
      ]
    },
    {
      "metadata": {
        "id": "heeGu_1Ni7Pp",
        "colab_type": "code",
        "colab": {}
      },
      "cell_type": "code",
      "source": [
        "# Set up environment and download course-v3\n",
        "!pip install torch_nightly -f https://download.pytorch.org/whl/nightly/cu92/torch_nightly.html\n",
        "!pip install fastai\n",
        "!pip install fastprogress\n",
        "!pip install pathlib\n",
        "\n",
        "!curl https://course-v3.fast.ai/setup/colab | bash"
      ],
      "execution_count": 0,
      "outputs": []
    },
    {
      "metadata": {
        "id": "JLIGWCOPooVx",
        "colab_type": "code",
        "colab": {}
      },
      "cell_type": "code",
      "source": [
        "!pip install scikit-optimize\n",
        "!pip install shap\n"
      ],
      "execution_count": 0,
      "outputs": []
    },
    {
      "metadata": {
        "id": "OoQiE_vijDC5",
        "colab_type": "code",
        "colab": {}
      },
      "cell_type": "code",
      "source": [
        "from fastai import *\n",
        "from fastai.tabular import *\n",
        "\n",
        "import pandas as pd\n",
        "import matplotlib as plt\n",
        "import numpy as np"
      ],
      "execution_count": 0,
      "outputs": []
    },
    {
      "metadata": {
        "id": "GhG87rGjO1z3",
        "colab_type": "code",
        "colab": {}
      },
      "cell_type": "code",
      "source": [
        "import matplotlib.pyplot as plt\n"
      ],
      "execution_count": 0,
      "outputs": []
    },
    {
      "metadata": {
        "id": "v8jA71F7y2uB",
        "colab_type": "code",
        "colab": {}
      },
      "cell_type": "code",
      "source": [
        "import shap"
      ],
      "execution_count": 0,
      "outputs": []
    },
    {
      "metadata": {
        "id": "zrXP5n_B3SnY",
        "colab_type": "code",
        "colab": {}
      },
      "cell_type": "code",
      "source": [
        "from xgboost import XGBClassifier, XGBRegressor"
      ],
      "execution_count": 0,
      "outputs": []
    },
    {
      "metadata": {
        "id": "-BP10L2QIPCo",
        "colab_type": "text"
      },
      "cell_type": "markdown",
      "source": [
        "# Using imputed values (median) for target variables"
      ]
    },
    {
      "metadata": {
        "id": "wZX0Q_4RjFmt",
        "colab_type": "code",
        "colab": {}
      },
      "cell_type": "code",
      "source": [
        "path = '/content/data/'\n",
        "os.makedirs(path, exist_ok=True)\n",
        "fname = 'Base de Datos Geometalurgia Goldspot'\n",
        "#path"
      ],
      "execution_count": 0,
      "outputs": []
    },
    {
      "metadata": {
        "id": "W5jVrcoudwB1",
        "colab_type": "text"
      },
      "cell_type": "markdown",
      "source": [
        "for some reason \n",
        "\n",
        "\n",
        "\n",
        "```\n",
        "df = pd.read_csv(f'{path}/{name}.csv', low_memory=False)\n",
        "```\n",
        "\n",
        "is causing colab issues and cannot load\n"
      ]
    },
    {
      "metadata": {
        "id": "xzN62Y-2jJBF",
        "colab_type": "code",
        "colab": {}
      },
      "cell_type": "code",
      "source": [
        "df = pd.read_csv('/content/data/Base de Datos Geometalurgia Goldspot.csv', low_memory=False)"
      ],
      "execution_count": 0,
      "outputs": []
    },
    {
      "metadata": {
        "id": "BCc_7a-fldDM",
        "colab_type": "code",
        "outputId": "4abb2d2a-64b4-4251-f09e-28086c1d95fe",
        "colab": {
          "base_uri": "https://localhost:8080/",
          "height": 244
        }
      },
      "cell_type": "code",
      "source": [
        "df.head(5)"
      ],
      "execution_count": 0,
      "outputs": [
        {
          "output_type": "execute_result",
          "data": {
            "text/html": [
              "<div>\n",
              "<style scoped>\n",
              "    .dataframe tbody tr th:only-of-type {\n",
              "        vertical-align: middle;\n",
              "    }\n",
              "\n",
              "    .dataframe tbody tr th {\n",
              "        vertical-align: top;\n",
              "    }\n",
              "\n",
              "    .dataframe thead th {\n",
              "        text-align: right;\n",
              "    }\n",
              "</style>\n",
              "<table border=\"1\" class=\"dataframe\">\n",
              "  <thead>\n",
              "    <tr style=\"text-align: right;\">\n",
              "      <th></th>\n",
              "      <th>compid</th>\n",
              "      <th>dhid</th>\n",
              "      <th>midx</th>\n",
              "      <th>midy</th>\n",
              "      <th>midz</th>\n",
              "      <th>topx</th>\n",
              "      <th>topy</th>\n",
              "      <th>topz</th>\n",
              "      <th>botx</th>\n",
              "      <th>boty</th>\n",
              "      <th>...</th>\n",
              "      <th>Te</th>\n",
              "      <th>Th</th>\n",
              "      <th>Ti</th>\n",
              "      <th>Tl</th>\n",
              "      <th>U</th>\n",
              "      <th>V</th>\n",
              "      <th>W</th>\n",
              "      <th>Y</th>\n",
              "      <th>Zn</th>\n",
              "      <th>Zr</th>\n",
              "    </tr>\n",
              "  </thead>\n",
              "  <tbody>\n",
              "    <tr>\n",
              "      <th>0</th>\n",
              "      <td>CAN</td>\n",
              "      <td>OF07482</td>\n",
              "      <td>449967.09</td>\n",
              "      <td>7301211.35</td>\n",
              "      <td>1819.01</td>\n",
              "      <td>449967.61</td>\n",
              "      <td>7301211.40</td>\n",
              "      <td>1819.01</td>\n",
              "      <td>449966.56</td>\n",
              "      <td>7301211.31</td>\n",
              "      <td>...</td>\n",
              "      <td>-99</td>\n",
              "      <td>-99</td>\n",
              "      <td>-99</td>\n",
              "      <td>-99</td>\n",
              "      <td>-99</td>\n",
              "      <td>-99.0</td>\n",
              "      <td>-99</td>\n",
              "      <td>-99</td>\n",
              "      <td>-99</td>\n",
              "      <td>-99.0</td>\n",
              "    </tr>\n",
              "    <tr>\n",
              "      <th>1</th>\n",
              "      <td>CAN</td>\n",
              "      <td>OF07491</td>\n",
              "      <td>449950.70</td>\n",
              "      <td>7301374.94</td>\n",
              "      <td>1836.81</td>\n",
              "      <td>449949.32</td>\n",
              "      <td>7301375.18</td>\n",
              "      <td>1836.81</td>\n",
              "      <td>449952.08</td>\n",
              "      <td>7301374.70</td>\n",
              "      <td>...</td>\n",
              "      <td>-99</td>\n",
              "      <td>-99</td>\n",
              "      <td>-99</td>\n",
              "      <td>-99</td>\n",
              "      <td>-99</td>\n",
              "      <td>-99.0</td>\n",
              "      <td>-99</td>\n",
              "      <td>-99</td>\n",
              "      <td>-99</td>\n",
              "      <td>-99.0</td>\n",
              "    </tr>\n",
              "    <tr>\n",
              "      <th>2</th>\n",
              "      <td>CAN</td>\n",
              "      <td>OF07505</td>\n",
              "      <td>449950.06</td>\n",
              "      <td>7301418.56</td>\n",
              "      <td>1836.86</td>\n",
              "      <td>449949.61</td>\n",
              "      <td>7301418.52</td>\n",
              "      <td>1836.86</td>\n",
              "      <td>449950.50</td>\n",
              "      <td>7301418.60</td>\n",
              "      <td>...</td>\n",
              "      <td>-99</td>\n",
              "      <td>-99</td>\n",
              "      <td>-99</td>\n",
              "      <td>-99</td>\n",
              "      <td>-99</td>\n",
              "      <td>-99.0</td>\n",
              "      <td>-99</td>\n",
              "      <td>-99</td>\n",
              "      <td>-99</td>\n",
              "      <td>-99.0</td>\n",
              "    </tr>\n",
              "    <tr>\n",
              "      <th>3</th>\n",
              "      <td>CAN</td>\n",
              "      <td>OF08219</td>\n",
              "      <td>449896.24</td>\n",
              "      <td>7301571.17</td>\n",
              "      <td>1677.28</td>\n",
              "      <td>449895.20</td>\n",
              "      <td>7301571.08</td>\n",
              "      <td>1677.28</td>\n",
              "      <td>449897.29</td>\n",
              "      <td>7301571.26</td>\n",
              "      <td>...</td>\n",
              "      <td>-99</td>\n",
              "      <td>-99</td>\n",
              "      <td>-99</td>\n",
              "      <td>-99</td>\n",
              "      <td>-99</td>\n",
              "      <td>-99.0</td>\n",
              "      <td>-99</td>\n",
              "      <td>-99</td>\n",
              "      <td>-99</td>\n",
              "      <td>-99.0</td>\n",
              "    </tr>\n",
              "    <tr>\n",
              "      <th>4</th>\n",
              "      <td>CAN</td>\n",
              "      <td>OF08222</td>\n",
              "      <td>449906.02</td>\n",
              "      <td>7301433.32</td>\n",
              "      <td>1601.00</td>\n",
              "      <td>449905.37</td>\n",
              "      <td>7301433.32</td>\n",
              "      <td>1601.00</td>\n",
              "      <td>449906.67</td>\n",
              "      <td>7301433.32</td>\n",
              "      <td>...</td>\n",
              "      <td>-99</td>\n",
              "      <td>-99</td>\n",
              "      <td>24</td>\n",
              "      <td>-99</td>\n",
              "      <td>-99</td>\n",
              "      <td>-99.0</td>\n",
              "      <td>3</td>\n",
              "      <td>-99</td>\n",
              "      <td>1000</td>\n",
              "      <td>-99.0</td>\n",
              "    </tr>\n",
              "  </tbody>\n",
              "</table>\n",
              "<p>5 rows × 72 columns</p>\n",
              "</div>"
            ],
            "text/plain": [
              "  compid     dhid       midx        midy     midz       topx        topy  \\\n",
              "0    CAN  OF07482  449967.09  7301211.35  1819.01  449967.61  7301211.40   \n",
              "1    CAN  OF07491  449950.70  7301374.94  1836.81  449949.32  7301375.18   \n",
              "2    CAN  OF07505  449950.06  7301418.56  1836.86  449949.61  7301418.52   \n",
              "3    CAN  OF08219  449896.24  7301571.17  1677.28  449895.20  7301571.08   \n",
              "4    CAN  OF08222  449906.02  7301433.32  1601.00  449905.37  7301433.32   \n",
              "\n",
              "      topz       botx        boty  ...    Te   Th   Ti   Tl    U     V    W  \\\n",
              "0  1819.01  449966.56  7301211.31  ...   -99  -99  -99  -99  -99 -99.0  -99   \n",
              "1  1836.81  449952.08  7301374.70  ...   -99  -99  -99  -99  -99 -99.0  -99   \n",
              "2  1836.86  449950.50  7301418.60  ...   -99  -99  -99  -99  -99 -99.0  -99   \n",
              "3  1677.28  449897.29  7301571.26  ...   -99  -99  -99  -99  -99 -99.0  -99   \n",
              "4  1601.00  449906.67  7301433.32  ...   -99  -99   24  -99  -99 -99.0    3   \n",
              "\n",
              "    Y    Zn    Zr  \n",
              "0 -99   -99 -99.0  \n",
              "1 -99   -99 -99.0  \n",
              "2 -99   -99 -99.0  \n",
              "3 -99   -99 -99.0  \n",
              "4 -99  1000 -99.0  \n",
              "\n",
              "[5 rows x 72 columns]"
            ]
          },
          "metadata": {
            "tags": []
          },
          "execution_count": 14
        }
      ]
    },
    {
      "metadata": {
        "id": "SeOPgpiZjOWK",
        "colab_type": "text"
      },
      "cell_type": "markdown",
      "source": [
        "### Preprocessing\n",
        "1. remove any instances of \">\", \"<\", and \",\" from the data\n",
        "2. Impute (or remove) any instances of -99 for 'agrec' or 'nacnc'\n",
        "    - if imputing: use median value \n",
        "3. Change any instance of -99 in features to be np.nan (to use FillMissing)\n",
        "4. use FillMissing to change NaN to -99, and add feature for var_na (bool)\n",
        "5. Perform analysis on features to see if any features (other than top/mid/bot) are correlated, remove those variables from the modelling process\n",
        "    - https://chrisalbon.com/machine_learning/feature_selection/drop_highly_correlated_features/\n",
        "6. Split features into 3 dataframes: \n",
        "    - Just geo data\n",
        "    - Just geochemical data\n",
        "    - both\n",
        "7. Model using features, see what kind of results we get with subset of the features\n",
        "8. Perform any feature importance analysis as needed"
      ]
    },
    {
      "metadata": {
        "id": "bMcomeMSjLU0",
        "colab_type": "code",
        "colab": {}
      },
      "cell_type": "code",
      "source": [
        "# stripping all str columns of > and < symbols\n",
        "for column in df.columns:\n",
        "    if df[column].dtype == 'O' and column != 'compid' and column != 'dhid':\n",
        "        df[column] = df[column].map(lambda x: x.lstrip('>,<'))\n",
        "        df[column] = df[column].str.replace(',','.')\n",
        "        df[column] = df[column].astype(float)\n",
        "\n"
      ],
      "execution_count": 0,
      "outputs": []
    },
    {
      "metadata": {
        "id": "QcyydyElmhNL",
        "colab_type": "code",
        "colab": {}
      },
      "cell_type": "code",
      "source": [
        "df['nacnc'] = df['nacnc'].replace(-99,df['nacnc'].median(), inplace = False)\n",
        "\n",
        "df['agrec'] = df['agrec'].replace(-99,df['agrec'].median(), inplace = False)"
      ],
      "execution_count": 0,
      "outputs": []
    },
    {
      "metadata": {
        "id": "vXcmT_rpm-dS",
        "colab_type": "code",
        "colab": {}
      },
      "cell_type": "code",
      "source": [
        "df = df.replace(-99, np.nan, inplace=False)\n"
      ],
      "execution_count": 0,
      "outputs": []
    },
    {
      "metadata": {
        "id": "rgIARC-1p0IW",
        "colab_type": "code",
        "colab": {}
      },
      "cell_type": "code",
      "source": [
        "cat_names = ['geocod', 'bound']\n",
        "cont_names = ['midx', 'midy', 'midz', 'topx', 'topy', 'topz', 'botx', 'boty', 'botz',\n",
        "             'length', 'from', 'to','auppm', 'agppm', 'Al', 'As', 'Au', 'B', 'Ba', 'Be', 'Bi', 'Ca',\n",
        "             'Cd', 'Co', 'Cr', 'Cu', 'Fe', 'Hg', 'K', 'La', 'Li', 'Mg', 'Mn', 'Mo', 'Na',\n",
        "             'Nb', 'Ni', 'P', 'Pb', 'Pd', 'Re', 'S', 'Sb', 'Se', 'Si', 'Sc', 'Sn', 'Sr',\n",
        "             'Ta', 'Te', 'Th', 'Ti', 'Tl', 'U', 'V', 'W', 'Y', 'Zn', 'Zr']"
      ],
      "execution_count": 0,
      "outputs": []
    },
    {
      "metadata": {
        "id": "_xVMra1Hp-Fv",
        "colab_type": "code",
        "colab": {}
      },
      "cell_type": "code",
      "source": [
        "fillmissing = FillMissing(cat_names = cat_names, cont_names = cont_names, fill_strategy='CONSTANT', fill_val = -99.0)\n"
      ],
      "execution_count": 0,
      "outputs": []
    },
    {
      "metadata": {
        "id": "vj7JI564qAhy",
        "colab_type": "code",
        "colab": {}
      },
      "cell_type": "code",
      "source": [
        "fillmissing(df)"
      ],
      "execution_count": 0,
      "outputs": []
    },
    {
      "metadata": {
        "id": "CBI4YWFhqB9Y",
        "colab_type": "code",
        "outputId": "18903693-f31f-463d-a7ce-afd567eef106",
        "colab": {
          "base_uri": "https://localhost:8080/",
          "height": 392
        }
      },
      "cell_type": "code",
      "source": [
        "df.head(10)"
      ],
      "execution_count": 0,
      "outputs": [
        {
          "output_type": "execute_result",
          "data": {
            "text/html": [
              "<div>\n",
              "<style scoped>\n",
              "    .dataframe tbody tr th:only-of-type {\n",
              "        vertical-align: middle;\n",
              "    }\n",
              "\n",
              "    .dataframe tbody tr th {\n",
              "        vertical-align: top;\n",
              "    }\n",
              "\n",
              "    .dataframe thead th {\n",
              "        text-align: right;\n",
              "    }\n",
              "</style>\n",
              "<table border=\"1\" class=\"dataframe\">\n",
              "  <thead>\n",
              "    <tr style=\"text-align: right;\">\n",
              "      <th></th>\n",
              "      <th>compid</th>\n",
              "      <th>dhid</th>\n",
              "      <th>midx</th>\n",
              "      <th>midy</th>\n",
              "      <th>midz</th>\n",
              "      <th>topx</th>\n",
              "      <th>topy</th>\n",
              "      <th>topz</th>\n",
              "      <th>botx</th>\n",
              "      <th>boty</th>\n",
              "      <th>...</th>\n",
              "      <th>Te_na</th>\n",
              "      <th>Th_na</th>\n",
              "      <th>Ti_na</th>\n",
              "      <th>Tl_na</th>\n",
              "      <th>U_na</th>\n",
              "      <th>V_na</th>\n",
              "      <th>W_na</th>\n",
              "      <th>Y_na</th>\n",
              "      <th>Zn_na</th>\n",
              "      <th>Zr_na</th>\n",
              "    </tr>\n",
              "  </thead>\n",
              "  <tbody>\n",
              "    <tr>\n",
              "      <th>0</th>\n",
              "      <td>CAN</td>\n",
              "      <td>OF07482</td>\n",
              "      <td>449967.09</td>\n",
              "      <td>7301211.35</td>\n",
              "      <td>1819.01</td>\n",
              "      <td>449967.61</td>\n",
              "      <td>7301211.40</td>\n",
              "      <td>1819.01</td>\n",
              "      <td>449966.56</td>\n",
              "      <td>7301211.31</td>\n",
              "      <td>...</td>\n",
              "      <td>True</td>\n",
              "      <td>True</td>\n",
              "      <td>True</td>\n",
              "      <td>True</td>\n",
              "      <td>True</td>\n",
              "      <td>True</td>\n",
              "      <td>True</td>\n",
              "      <td>True</td>\n",
              "      <td>True</td>\n",
              "      <td>True</td>\n",
              "    </tr>\n",
              "    <tr>\n",
              "      <th>1</th>\n",
              "      <td>CAN</td>\n",
              "      <td>OF07491</td>\n",
              "      <td>449950.70</td>\n",
              "      <td>7301374.94</td>\n",
              "      <td>1836.81</td>\n",
              "      <td>449949.32</td>\n",
              "      <td>7301375.18</td>\n",
              "      <td>1836.81</td>\n",
              "      <td>449952.08</td>\n",
              "      <td>7301374.70</td>\n",
              "      <td>...</td>\n",
              "      <td>True</td>\n",
              "      <td>True</td>\n",
              "      <td>True</td>\n",
              "      <td>True</td>\n",
              "      <td>True</td>\n",
              "      <td>True</td>\n",
              "      <td>True</td>\n",
              "      <td>True</td>\n",
              "      <td>True</td>\n",
              "      <td>True</td>\n",
              "    </tr>\n",
              "    <tr>\n",
              "      <th>2</th>\n",
              "      <td>CAN</td>\n",
              "      <td>OF07505</td>\n",
              "      <td>449950.06</td>\n",
              "      <td>7301418.56</td>\n",
              "      <td>1836.86</td>\n",
              "      <td>449949.61</td>\n",
              "      <td>7301418.52</td>\n",
              "      <td>1836.86</td>\n",
              "      <td>449950.50</td>\n",
              "      <td>7301418.60</td>\n",
              "      <td>...</td>\n",
              "      <td>True</td>\n",
              "      <td>True</td>\n",
              "      <td>True</td>\n",
              "      <td>True</td>\n",
              "      <td>True</td>\n",
              "      <td>True</td>\n",
              "      <td>True</td>\n",
              "      <td>True</td>\n",
              "      <td>True</td>\n",
              "      <td>True</td>\n",
              "    </tr>\n",
              "    <tr>\n",
              "      <th>3</th>\n",
              "      <td>CAN</td>\n",
              "      <td>OF08219</td>\n",
              "      <td>449896.24</td>\n",
              "      <td>7301571.17</td>\n",
              "      <td>1677.28</td>\n",
              "      <td>449895.20</td>\n",
              "      <td>7301571.08</td>\n",
              "      <td>1677.28</td>\n",
              "      <td>449897.29</td>\n",
              "      <td>7301571.26</td>\n",
              "      <td>...</td>\n",
              "      <td>True</td>\n",
              "      <td>True</td>\n",
              "      <td>True</td>\n",
              "      <td>True</td>\n",
              "      <td>True</td>\n",
              "      <td>True</td>\n",
              "      <td>True</td>\n",
              "      <td>True</td>\n",
              "      <td>True</td>\n",
              "      <td>True</td>\n",
              "    </tr>\n",
              "    <tr>\n",
              "      <th>4</th>\n",
              "      <td>CAN</td>\n",
              "      <td>OF08222</td>\n",
              "      <td>449906.02</td>\n",
              "      <td>7301433.32</td>\n",
              "      <td>1601.00</td>\n",
              "      <td>449905.37</td>\n",
              "      <td>7301433.32</td>\n",
              "      <td>1601.00</td>\n",
              "      <td>449906.67</td>\n",
              "      <td>7301433.32</td>\n",
              "      <td>...</td>\n",
              "      <td>True</td>\n",
              "      <td>True</td>\n",
              "      <td>False</td>\n",
              "      <td>True</td>\n",
              "      <td>True</td>\n",
              "      <td>True</td>\n",
              "      <td>False</td>\n",
              "      <td>True</td>\n",
              "      <td>False</td>\n",
              "      <td>True</td>\n",
              "    </tr>\n",
              "    <tr>\n",
              "      <th>5</th>\n",
              "      <td>CAN</td>\n",
              "      <td>OF08223</td>\n",
              "      <td>449940.31</td>\n",
              "      <td>7301543.05</td>\n",
              "      <td>1773.45</td>\n",
              "      <td>449940.01</td>\n",
              "      <td>7301543.08</td>\n",
              "      <td>1773.45</td>\n",
              "      <td>449940.61</td>\n",
              "      <td>7301543.03</td>\n",
              "      <td>...</td>\n",
              "      <td>True</td>\n",
              "      <td>True</td>\n",
              "      <td>True</td>\n",
              "      <td>True</td>\n",
              "      <td>True</td>\n",
              "      <td>True</td>\n",
              "      <td>True</td>\n",
              "      <td>True</td>\n",
              "      <td>True</td>\n",
              "      <td>True</td>\n",
              "    </tr>\n",
              "    <tr>\n",
              "      <th>6</th>\n",
              "      <td>CAN</td>\n",
              "      <td>OF08264</td>\n",
              "      <td>449922.79</td>\n",
              "      <td>7301652.09</td>\n",
              "      <td>1854.98</td>\n",
              "      <td>449921.08</td>\n",
              "      <td>7301651.73</td>\n",
              "      <td>1854.98</td>\n",
              "      <td>449924.50</td>\n",
              "      <td>7301652.46</td>\n",
              "      <td>...</td>\n",
              "      <td>True</td>\n",
              "      <td>True</td>\n",
              "      <td>False</td>\n",
              "      <td>True</td>\n",
              "      <td>True</td>\n",
              "      <td>True</td>\n",
              "      <td>False</td>\n",
              "      <td>True</td>\n",
              "      <td>False</td>\n",
              "      <td>True</td>\n",
              "    </tr>\n",
              "    <tr>\n",
              "      <th>7</th>\n",
              "      <td>CAN</td>\n",
              "      <td>OF08306</td>\n",
              "      <td>449933.71</td>\n",
              "      <td>7301556.51</td>\n",
              "      <td>1773.12</td>\n",
              "      <td>449933.33</td>\n",
              "      <td>7301556.19</td>\n",
              "      <td>1773.12</td>\n",
              "      <td>449934.10</td>\n",
              "      <td>7301556.83</td>\n",
              "      <td>...</td>\n",
              "      <td>True</td>\n",
              "      <td>True</td>\n",
              "      <td>False</td>\n",
              "      <td>True</td>\n",
              "      <td>True</td>\n",
              "      <td>True</td>\n",
              "      <td>False</td>\n",
              "      <td>True</td>\n",
              "      <td>False</td>\n",
              "      <td>True</td>\n",
              "    </tr>\n",
              "    <tr>\n",
              "      <th>8</th>\n",
              "      <td>CAN</td>\n",
              "      <td>OF08389</td>\n",
              "      <td>449872.89</td>\n",
              "      <td>7301556.36</td>\n",
              "      <td>1600.87</td>\n",
              "      <td>449871.73</td>\n",
              "      <td>7301556.05</td>\n",
              "      <td>1600.87</td>\n",
              "      <td>449874.05</td>\n",
              "      <td>7301556.67</td>\n",
              "      <td>...</td>\n",
              "      <td>True</td>\n",
              "      <td>True</td>\n",
              "      <td>False</td>\n",
              "      <td>True</td>\n",
              "      <td>True</td>\n",
              "      <td>True</td>\n",
              "      <td>False</td>\n",
              "      <td>True</td>\n",
              "      <td>False</td>\n",
              "      <td>True</td>\n",
              "    </tr>\n",
              "    <tr>\n",
              "      <th>9</th>\n",
              "      <td>CAN</td>\n",
              "      <td>OF09245</td>\n",
              "      <td>449873.89</td>\n",
              "      <td>7301509.13</td>\n",
              "      <td>1547.19</td>\n",
              "      <td>449873.25</td>\n",
              "      <td>7301508.99</td>\n",
              "      <td>1547.19</td>\n",
              "      <td>449874.52</td>\n",
              "      <td>7301509.26</td>\n",
              "      <td>...</td>\n",
              "      <td>True</td>\n",
              "      <td>True</td>\n",
              "      <td>True</td>\n",
              "      <td>True</td>\n",
              "      <td>True</td>\n",
              "      <td>True</td>\n",
              "      <td>True</td>\n",
              "      <td>True</td>\n",
              "      <td>True</td>\n",
              "      <td>True</td>\n",
              "    </tr>\n",
              "  </tbody>\n",
              "</table>\n",
              "<p>10 rows × 119 columns</p>\n",
              "</div>"
            ],
            "text/plain": [
              "  compid     dhid       midx        midy     midz       topx        topy  \\\n",
              "0    CAN  OF07482  449967.09  7301211.35  1819.01  449967.61  7301211.40   \n",
              "1    CAN  OF07491  449950.70  7301374.94  1836.81  449949.32  7301375.18   \n",
              "2    CAN  OF07505  449950.06  7301418.56  1836.86  449949.61  7301418.52   \n",
              "3    CAN  OF08219  449896.24  7301571.17  1677.28  449895.20  7301571.08   \n",
              "4    CAN  OF08222  449906.02  7301433.32  1601.00  449905.37  7301433.32   \n",
              "5    CAN  OF08223  449940.31  7301543.05  1773.45  449940.01  7301543.08   \n",
              "6    CAN  OF08264  449922.79  7301652.09  1854.98  449921.08  7301651.73   \n",
              "7    CAN  OF08306  449933.71  7301556.51  1773.12  449933.33  7301556.19   \n",
              "8    CAN  OF08389  449872.89  7301556.36  1600.87  449871.73  7301556.05   \n",
              "9    CAN  OF09245  449873.89  7301509.13  1547.19  449873.25  7301508.99   \n",
              "\n",
              "      topz       botx        boty  ...    Te_na  Th_na  Ti_na  Tl_na  U_na  \\\n",
              "0  1819.01  449966.56  7301211.31  ...     True   True   True   True  True   \n",
              "1  1836.81  449952.08  7301374.70  ...     True   True   True   True  True   \n",
              "2  1836.86  449950.50  7301418.60  ...     True   True   True   True  True   \n",
              "3  1677.28  449897.29  7301571.26  ...     True   True   True   True  True   \n",
              "4  1601.00  449906.67  7301433.32  ...     True   True  False   True  True   \n",
              "5  1773.45  449940.61  7301543.03  ...     True   True   True   True  True   \n",
              "6  1854.98  449924.50  7301652.46  ...     True   True  False   True  True   \n",
              "7  1773.12  449934.10  7301556.83  ...     True   True  False   True  True   \n",
              "8  1600.87  449874.05  7301556.67  ...     True   True  False   True  True   \n",
              "9  1547.19  449874.52  7301509.26  ...     True   True   True   True  True   \n",
              "\n",
              "   V_na   W_na  Y_na  Zn_na  Zr_na  \n",
              "0  True   True  True   True   True  \n",
              "1  True   True  True   True   True  \n",
              "2  True   True  True   True   True  \n",
              "3  True   True  True   True   True  \n",
              "4  True  False  True  False   True  \n",
              "5  True   True  True   True   True  \n",
              "6  True  False  True  False   True  \n",
              "7  True  False  True  False   True  \n",
              "8  True  False  True  False   True  \n",
              "9  True   True  True   True   True  \n",
              "\n",
              "[10 rows x 119 columns]"
            ]
          },
          "metadata": {
            "tags": []
          },
          "execution_count": 21
        }
      ]
    },
    {
      "metadata": {
        "id": "p9esCdwOqJqu",
        "colab_type": "code",
        "colab": {}
      },
      "cell_type": "code",
      "source": [
        "cat_names = ['geocod', 'bound',\n",
        "            'Al_na', 'As_na', 'Au_na', 'B_na', 'Ba_na', 'Be_na', 'Bi_na', 'Ca_na',\n",
        "             'Cd_na', 'Co_na', 'Cr_na', 'Cu_na', 'Fe_na', 'Hg_na', 'K_na', 'La_na', 'Li_na', 'Mg_na',\n",
        "             'Mn_na', 'Mo_na', 'Na_na',\n",
        "             'Nb_na', 'Ni_na', 'P_na', 'Pb_na', 'Pd_na', 'Re_na', 'S_na', 'Sb_na', 'Se_na',\n",
        "             'Si_na', 'Sc_na', 'Sn_na', 'Sr_na',\n",
        "             'Ta_na', 'Te_na', 'Th_na', 'Ti_na', 'Tl_na', 'U_na', 'V_na', 'W_na', 'Y_na', 'Zn_na', 'Zr_na']\n",
        "\n",
        "cont_names= ['midx', 'midy', 'midz', 'topx', 'topy', 'topz', 'botx', 'boty', 'botz',\n",
        "             'length', 'from', 'to','auppm', 'agppm', 'Al', 'As', 'Au', 'B', 'Ba', 'Be', 'Bi', 'Ca',\n",
        "             'Cd', 'Co', 'Cr', 'Cu', 'Fe', 'Hg', 'K', 'La', 'Li', 'Mg', 'Mn', 'Mo', 'Na',\n",
        "             'Nb', 'Ni', 'P', 'Pb', 'Pd', 'Re', 'S', 'Sb', 'Se', 'Si', 'Sc', 'Sn', 'Sr',\n",
        "             'Ta', 'Te', 'Th', 'Ti', 'Tl', 'U', 'V', 'W', 'Y', 'Zn', 'Zr']"
      ],
      "execution_count": 0,
      "outputs": []
    },
    {
      "metadata": {
        "id": "7b8fawUbqiJS",
        "colab_type": "text"
      },
      "cell_type": "markdown",
      "source": [
        "Finding correlated features"
      ]
    },
    {
      "metadata": {
        "id": "rXmUtp3yrKEu",
        "colab_type": "code",
        "colab": {}
      },
      "cell_type": "code",
      "source": [
        "df_orig_features = df[['geocod', 'bound', 'midx', 'midy', 'midz', 'topx', 'topy', 'topz', 'botx', 'boty', 'botz',\n",
        "             'length', 'from', 'to','auppm', 'agppm', 'Al', 'As', 'Au', 'B', 'Ba', 'Be', 'Bi', 'Ca',\n",
        "             'Cd', 'Co', 'Cr', 'Cu', 'Fe', 'Hg', 'K', 'La', 'Li', 'Mg', 'Mn', 'Mo', 'Na',\n",
        "             'Nb', 'Ni', 'P', 'Pb', 'Pd', 'Re', 'S', 'Sb', 'Se', 'Si', 'Sc', 'Sn', 'Sr',\n",
        "             'Ta', 'Te', 'Th', 'Ti', 'Tl', 'U', 'V', 'W', 'Y', 'Zn', 'Zr']]"
      ],
      "execution_count": 0,
      "outputs": []
    },
    {
      "metadata": {
        "id": "SaxRUn0aqbgj",
        "colab_type": "code",
        "colab": {}
      },
      "cell_type": "code",
      "source": [
        "corr_matrix = df_orig_features.corr().abs()\n",
        "upper = corr_matrix.where(np.triu(np.ones(corr_matrix.shape), k=1).astype(np.bool))\n",
        "\n"
      ],
      "execution_count": 0,
      "outputs": []
    },
    {
      "metadata": {
        "id": "ephlX4w5r3tH",
        "colab_type": "code",
        "colab": {}
      },
      "cell_type": "code",
      "source": [
        "print(upper)"
      ],
      "execution_count": 0,
      "outputs": []
    },
    {
      "metadata": {
        "id": "Da-eoKr_qj1p",
        "colab_type": "code",
        "outputId": "bcec9990-4c3d-46d4-ffba-8625a19cdd91",
        "colab": {
          "base_uri": "https://localhost:8080/",
          "height": 34
        }
      },
      "cell_type": "code",
      "source": [
        "# Find index of feature columns with correlation greater than 0.95\n",
        "to_drop = [column for column in upper.columns if any(upper[column] > 0.95)]\n",
        "\n",
        "print(to_drop)\n"
      ],
      "execution_count": 0,
      "outputs": [
        {
          "output_type": "stream",
          "text": [
            "['bound', 'topx', 'topy', 'topz', 'botx', 'boty', 'botz', 'Au', 'K', 'Pd', 'Re', 'Sn']\n"
          ],
          "name": "stdout"
        }
      ]
    },
    {
      "metadata": {
        "id": "Egh3bvn6rtbl",
        "colab_type": "text"
      },
      "cell_type": "markdown",
      "source": [
        "# Test 1\n",
        "\n",
        "Removing auppm, agppm, from, and to features from the data"
      ]
    },
    {
      "metadata": {
        "id": "sgvtRdT_roAJ",
        "colab_type": "code",
        "colab": {}
      },
      "cell_type": "code",
      "source": [
        "df_all = df[['geocod','midx', 'midy', 'midz', 'length',\n",
        "             'Al', 'As', 'Au', 'B', 'Ba', 'Be', 'Bi', 'Ca',\n",
        "             'Cd', 'Co', 'Cr', 'Cu', 'Fe', 'Hg', 'K', 'La', 'Li', 'Mg',\n",
        "             'Mn', 'Mo', 'Na',\n",
        "             'Nb', 'Ni', 'P', 'Pb', 'Pd', 'Re', 'S', 'Sb', 'Se',\n",
        "             'Si', 'Sc', 'Sn', 'Sr',\n",
        "             'Ta', 'Te', 'Th', 'Ti', 'Tl', 'U', 'V', 'W', 'Y', 'Zn', 'Zr', \n",
        "             'Al_na', 'As_na', 'Au_na', 'B_na', 'Ba_na', 'Be_na', 'Bi_na', 'Ca_na',\n",
        "             'Cd_na', 'Co_na', 'Cr_na', 'Cu_na', 'Fe_na', 'Hg_na', 'K_na', 'La_na', 'Li_na', 'Mg_na',\n",
        "             'Mn_na', 'Mo_na', 'Na_na',\n",
        "             'Nb_na', 'Ni_na', 'P_na', 'Pb_na', 'Pd_na', 'Re_na', 'S_na', 'Sb_na', 'Se_na',\n",
        "             'Si_na', 'Sc_na', 'Sn_na', 'Sr_na',\n",
        "             'Ta_na', 'Te_na', 'Th_na', 'Ti_na', 'Tl_na', 'U_na', 'V_na', 'W_na', 'Y_na', 'Zn_na', 'Zr_na']]\n",
        "\n",
        "y_au = df['aurec']\n",
        "y_ag = df['agrec']\n",
        "y_nac = df['nacnc']\n",
        "y_codt = df['codt']"
      ],
      "execution_count": 0,
      "outputs": []
    },
    {
      "metadata": {
        "id": "WNPsv6K5U3zk",
        "colab_type": "code",
        "colab": {}
      },
      "cell_type": "code",
      "source": [
        "# defining function to evaluate exp_rmse\n",
        "def inv_y(a): return np.exp(a)\n",
        "\n",
        "def exp_rmspe(y_pred, targ):\n",
        "    targ = inv_y(targ)\n",
        "    pct_var = (targ - inv_y(y_pred))/targ\n",
        "    return math.sqrt((pct_var**2).mean())\n",
        "\n",
        "def rmspe(y_pred, targ):\n",
        "    pct_var = (targ - y_pred)/targ\n",
        "    return math.sqrt((pct_var**2).mean())"
      ],
      "execution_count": 0,
      "outputs": []
    },
    {
      "metadata": {
        "id": "pcbB280FIrAI",
        "colab_type": "code",
        "colab": {}
      },
      "cell_type": "code",
      "source": [
        "from sklearn.ensemble import RandomForestRegressor, RandomForestClassifier\n",
        "from sklearn.model_selection import train_test_split\n",
        "from sklearn.metrics import mean_squared_error\n",
        "from sklearn.feature_selection import f_regression\n",
        "from sklearn.linear_model import LogisticRegression, LinearRegression\n"
      ],
      "execution_count": 0,
      "outputs": []
    },
    {
      "metadata": {
        "id": "tg519k2gO7KW",
        "colab_type": "code",
        "colab": {}
      },
      "cell_type": "code",
      "source": [
        "n_features = df_all.shape[1]\n",
        "from sklearn.model_selection import cross_val_score\n",
        "from skopt.space import Real, Integer, Categorical \n",
        "from skopt.utils import use_named_args\n",
        "from skopt import gp_minimize, forest_minimize, gbrt_minimize\n"
      ],
      "execution_count": 0,
      "outputs": []
    },
    {
      "metadata": {
        "id": "RcK_UvaoQHfG",
        "colab_type": "code",
        "colab": {}
      },
      "cell_type": "code",
      "source": [
        "# list of valid scoring methods for objective function\n",
        "from sklearn.metrics import SCORERS\n",
        "\n",
        "sorted(SCORERS.keys()) "
      ],
      "execution_count": 0,
      "outputs": []
    },
    {
      "metadata": {
        "id": "W9fBpkgLtbof",
        "colab_type": "text"
      },
      "cell_type": "markdown",
      "source": [
        "## Predicting codt class"
      ]
    },
    {
      "metadata": {
        "colab_type": "text",
        "id": "ml-l9RK0uNH7"
      },
      "cell_type": "markdown",
      "source": [
        "### Random Forest"
      ]
    },
    {
      "metadata": {
        "id": "AsXhAO-PPCsw",
        "colab_type": "text"
      },
      "cell_type": "markdown",
      "source": [
        "using bayesian optimization to tune random forest"
      ]
    },
    {
      "metadata": {
        "id": "AO6q4J9kPquL",
        "colab_type": "code",
        "colab": {}
      },
      "cell_type": "code",
      "source": [
        "# Defining initial rf model\n",
        "m = RandomForestClassifier(n_estimators=100, max_features=0.99, min_samples_leaf=2,\n",
        "                          n_jobs=-1, oob_score=True)"
      ],
      "execution_count": 0,
      "outputs": []
    },
    {
      "metadata": {
        "id": "C-Uok-NBPMG1",
        "colab_type": "code",
        "colab": {}
      },
      "cell_type": "code",
      "source": [
        "# defining search space for RF\n",
        "space = [Integer(100,2000, name='n_estimators'),\n",
        "         Real(0.1, 1.0, name='max_features'),\n",
        "         Integer(1, 5, name='max_depth'),\n",
        "         Integer(2, 100, name='min_samples_split'),\n",
        "         Integer(1, 100, name='min_samples_leaf'),\n",
        "         Categorical(['gini', 'entropy'], name = 'criterion')]"
      ],
      "execution_count": 0,
      "outputs": []
    },
    {
      "metadata": {
        "id": "gNBhq2gRPRFD",
        "colab_type": "code",
        "colab": {}
      },
      "cell_type": "code",
      "source": [
        "# estimator parameters\n",
        "@use_named_args(space)\n",
        "def objective(**params):\n",
        "    m.set_params(**params)\n",
        "\n",
        "    return np.mean(cross_val_score(m, df_all, y_codt, cv=5, n_jobs=-1,\n",
        "                                    scoring=\"accuracy\"))"
      ],
      "execution_count": 0,
      "outputs": []
    },
    {
      "metadata": {
        "colab_type": "code",
        "id": "W9f1NT6jPZUs",
        "colab": {}
      },
      "cell_type": "code",
      "source": [
        "#instead of gp_minimize can also use forest_minimize or gbrt_minimize\n",
        "\n",
        "%time res_gp = gp_minimize(objective, space, n_calls=50, random_state=0)\n",
        "\n",
        "\n",
        "\"Best score=%.4f\" % res_gp.fun"
      ],
      "execution_count": 0,
      "outputs": []
    },
    {
      "metadata": {
        "colab_type": "code",
        "id": "pEnBalEYPZUw",
        "colab": {}
      },
      "cell_type": "code",
      "source": [
        "print(\"\"\"Best parameters:\n",
        "- n_estimators=%d\n",
        "- max_features=%d\n",
        "- max_depth=%d\n",
        "- min_samples_split=%d\n",
        "- min_samples_leaf=%d\n",
        "- criterion = %s\"\"\" % (res_gp.x[0], res_gp.x[1], \n",
        "                            res_gp.x[2], res_gp.x[3], \n",
        "                            res_gp.x[4], res_gp.x[5]))"
      ],
      "execution_count": 0,
      "outputs": []
    },
    {
      "metadata": {
        "id": "4PhSrYG9he8j",
        "colab_type": "text"
      },
      "cell_type": "markdown",
      "source": [
        "tuning models doesn't seem to help "
      ]
    },
    {
      "metadata": {
        "id": "jeBAfVilhe7K",
        "colab_type": "text"
      },
      "cell_type": "markdown",
      "source": [
        ""
      ]
    },
    {
      "metadata": {
        "id": "7Y8jp2WaPgDt",
        "colab_type": "text"
      },
      "cell_type": "markdown",
      "source": [
        "Fitting model with the tuned hyperparameters"
      ]
    },
    {
      "metadata": {
        "colab_type": "code",
        "id": "Lzyxi3ZguNH8",
        "colab": {}
      },
      "cell_type": "code",
      "source": [
        "x_train, x_test, y_train, y_test = train_test_split(df_all, y_codt, test_size = 0.2)"
      ],
      "execution_count": 0,
      "outputs": []
    },
    {
      "metadata": {
        "colab_type": "code",
        "outputId": "ceedc66a-3069-4fa7-f723-4ca963769034",
        "id": "AKuEQVgDuNH-",
        "colab": {
          "base_uri": "https://localhost:8080/",
          "height": 118
        }
      },
      "cell_type": "code",
      "source": [
        "m = RandomForestClassifier(n_estimators=100, max_features=0.99, min_samples_leaf=2,\n",
        "                          n_jobs=-1, oob_score=True)\n",
        "\n",
        "m.fit(x_train, y_train)"
      ],
      "execution_count": 0,
      "outputs": [
        {
          "output_type": "execute_result",
          "data": {
            "text/plain": [
              "RandomForestClassifier(bootstrap=True, class_weight=None, criterion='gini',\n",
              "            max_depth=None, max_features=0.99, max_leaf_nodes=None,\n",
              "            min_impurity_decrease=0.0, min_impurity_split=None,\n",
              "            min_samples_leaf=2, min_samples_split=2,\n",
              "            min_weight_fraction_leaf=0.0, n_estimators=100, n_jobs=-1,\n",
              "            oob_score=True, random_state=None, verbose=0, warm_start=False)"
            ]
          },
          "metadata": {
            "tags": []
          },
          "execution_count": 33
        }
      ]
    },
    {
      "metadata": {
        "colab_type": "code",
        "outputId": "fc9a2e7b-a7c2-452d-8406-04ded6ae16db",
        "id": "NyRsdayxuNIA",
        "colab": {
          "base_uri": "https://localhost:8080/",
          "height": 34
        }
      },
      "cell_type": "code",
      "source": [
        "m.score(x_test, y_test)"
      ],
      "execution_count": 0,
      "outputs": [
        {
          "output_type": "execute_result",
          "data": {
            "text/plain": [
              "0.9705882352941176"
            ]
          },
          "metadata": {
            "tags": []
          },
          "execution_count": 34
        }
      ]
    },
    {
      "metadata": {
        "colab_type": "code",
        "outputId": "28017d3a-ac47-437d-b8d9-378b011e0f69",
        "id": "UxLfZtUzuNIC",
        "colab": {
          "base_uri": "https://localhost:8080/",
          "height": 67
        }
      },
      "cell_type": "code",
      "source": [
        "from sklearn.metrics import confusion_matrix\n",
        "\n",
        "confusion_matrix(m.predict(x_test), y_test)"
      ],
      "execution_count": 0,
      "outputs": [
        {
          "output_type": "execute_result",
          "data": {
            "text/plain": [
              "array([[ 89,   1,   1],\n",
              "       [  3,  37,   0],\n",
              "       [  3,   0, 138]])"
            ]
          },
          "metadata": {
            "tags": []
          },
          "execution_count": 35
        }
      ]
    },
    {
      "metadata": {
        "colab_type": "code",
        "outputId": "f6d83f41-ed68-469b-809e-7f50d568373a",
        "id": "UAkNC7myuNIE",
        "colab": {
          "base_uri": "https://localhost:8080/",
          "height": 185
        }
      },
      "cell_type": "code",
      "source": [
        "from sklearn.metrics import classification_report\n",
        "\n",
        "print(classification_report(m.predict(x_test), y_test))"
      ],
      "execution_count": 0,
      "outputs": [
        {
          "output_type": "stream",
          "text": [
            "              precision    recall  f1-score   support\n",
            "\n",
            "           1       0.94      0.98      0.96        91\n",
            "           3       0.97      0.93      0.95        40\n",
            "           4       0.99      0.98      0.99       141\n",
            "\n",
            "   micro avg       0.97      0.97      0.97       272\n",
            "   macro avg       0.97      0.96      0.96       272\n",
            "weighted avg       0.97      0.97      0.97       272\n",
            "\n"
          ],
          "name": "stdout"
        }
      ]
    },
    {
      "metadata": {
        "id": "mBDOLeW-1p2q",
        "colab_type": "code",
        "outputId": "24f4ba9d-45b6-482d-853c-c982e5d51124",
        "colab": {
          "base_uri": "https://localhost:8080/",
          "height": 1092
        }
      },
      "cell_type": "code",
      "source": [
        "feature_importances = pd.DataFrame(m.feature_importances_,\n",
        "                                   index = x_train.columns,\n",
        "                                    columns=['importance']).sort_values('importance',ascending=False)\n",
        "print(feature_importances)"
      ],
      "execution_count": 0,
      "outputs": [
        {
          "output_type": "stream",
          "text": [
            "        importance\n",
            "midx      0.646873\n",
            "midz      0.251643\n",
            "midy      0.056588\n",
            "geocod    0.021157\n",
            "Mg        0.005305\n",
            "Au        0.003602\n",
            "length    0.003126\n",
            "Zn        0.001998\n",
            "Au_na     0.001383\n",
            "Ca        0.001146\n",
            "Ba        0.001113\n",
            "K         0.000653\n",
            "Mn        0.000596\n",
            "Cr        0.000530\n",
            "Pd        0.000474\n",
            "P         0.000463\n",
            "Na        0.000380\n",
            "Si        0.000356\n",
            "Al        0.000330\n",
            "Pb        0.000251\n",
            "As        0.000226\n",
            "Fe        0.000224\n",
            "Cu        0.000208\n",
            "S         0.000167\n",
            "Ni        0.000154\n",
            "La        0.000151\n",
            "Ti        0.000141\n",
            "Te        0.000130\n",
            "Cd        0.000120\n",
            "Li        0.000080\n",
            "...            ...\n",
            "V_na      0.000000\n",
            "Y_na      0.000000\n",
            "Zn_na     0.000000\n",
            "Nb_na     0.000000\n",
            "Y         0.000000\n",
            "Mo_na     0.000000\n",
            "U         0.000000\n",
            "B         0.000000\n",
            "Bi        0.000000\n",
            "Hg        0.000000\n",
            "Nb        0.000000\n",
            "Re        0.000000\n",
            "Se        0.000000\n",
            "Sn        0.000000\n",
            "Ta        0.000000\n",
            "Th        0.000000\n",
            "Tl        0.000000\n",
            "W         0.000000\n",
            "Mn_na     0.000000\n",
            "Al_na     0.000000\n",
            "As_na     0.000000\n",
            "B_na      0.000000\n",
            "Ba_na     0.000000\n",
            "Be_na     0.000000\n",
            "Bi_na     0.000000\n",
            "Co_na     0.000000\n",
            "Cr_na     0.000000\n",
            "La_na     0.000000\n",
            "Li_na     0.000000\n",
            "Zr_na     0.000000\n",
            "\n",
            "[95 rows x 1 columns]\n"
          ],
          "name": "stdout"
        }
      ]
    },
    {
      "metadata": {
        "colab_type": "text",
        "id": "xBwMhJ6phe5R"
      },
      "cell_type": "markdown",
      "source": [
        "## Predicting aurec"
      ]
    },
    {
      "metadata": {
        "colab_type": "text",
        "id": "KfoCZ7uThe4O"
      },
      "cell_type": "markdown",
      "source": [
        "### All info"
      ]
    },
    {
      "metadata": {
        "id": "o2mP8ekwhw5Q",
        "colab_type": "code",
        "colab": {}
      },
      "cell_type": "code",
      "source": [
        "# initial rf model\n",
        "m = RandomForestRegressor(n_estimators=100, max_features=0.99, min_samples_leaf=2,\n",
        "                          n_jobs=-1, oob_score=True)"
      ],
      "execution_count": 0,
      "outputs": []
    },
    {
      "metadata": {
        "colab_type": "code",
        "id": "ReRxk9ALhxU-",
        "colab": {}
      },
      "cell_type": "code",
      "source": [
        "# defining search space\n",
        "space = [Integer(10,2000, name='n_estimators'),\n",
        "         Integer(1, n_features, name='max_features'),\n",
        "         Integer(1, 5, name='max_depth'),\n",
        "         Integer(2, 100, name='min_samples_split'),\n",
        "         Integer(1, 100, name='min_samples_leaf')]\n"
      ],
      "execution_count": 0,
      "outputs": []
    },
    {
      "metadata": {
        "colab_type": "code",
        "id": "i3tMut6ahxVA",
        "colab": {}
      },
      "cell_type": "code",
      "source": [
        "# estimator parameters\n",
        "@use_named_args(space)\n",
        "def objective(**params):\n",
        "    m.set_params(**params)\n",
        "\n",
        "    return -np.mean(cross_val_score(m, df_all, y_au, cv=5, n_jobs=-1,\n",
        "                                    scoring=\"neg_mean_squared_error\"))"
      ],
      "execution_count": 0,
      "outputs": []
    },
    {
      "metadata": {
        "id": "7HXXcOIMetyy",
        "colab_type": "code",
        "colab": {}
      },
      "cell_type": "code",
      "source": [
        "# trying a different objective function\n",
        "@use_named_args(space)\n",
        "def objective(**params):\n",
        "    m.set_params(**params)\n",
        "    i = 0\n",
        "    l_rmse=[]\n",
        "    while i<10:\n",
        "        x_train, x_test, y_train, y_test = train_test_split(df_all, y_nac, test_size = 0.2)\n",
        "        m.fit(x_train, y_train)\n",
        "        preds = m.predict(x_test)\n",
        "        l_rmse.append(math.sqrt(mean_squared_error(preds, y_test)))\n",
        "        i+=1\n",
        "\n",
        "    return np.mean(l_rmse)"
      ],
      "execution_count": 0,
      "outputs": []
    },
    {
      "metadata": {
        "colab_type": "code",
        "id": "-OhfksKrhxVB",
        "colab": {}
      },
      "cell_type": "code",
      "source": [
        "from skopt import gp_minimize, forest_minimize, gbrt_minimize\n",
        "#res_gp = gp_minimize(objective, space, n_calls=50, random_state=0)\n",
        "#instead of gp_minimize can also use forest_minimize or gbrt_minimize\n",
        "\n",
        "%time res_gp = gp_minimize(objective, space, n_calls=50, random_state=0)\n",
        "\n",
        "\n",
        "\"Best score=%.4f\" % res_gp.fun"
      ],
      "execution_count": 0,
      "outputs": []
    },
    {
      "metadata": {
        "colab_type": "code",
        "outputId": "21697552-bb8f-4abb-dd85-e890790a0d37",
        "id": "VvCx56GMhxVC",
        "colab": {
          "base_uri": "https://localhost:8080/",
          "height": 118
        }
      },
      "cell_type": "code",
      "source": [
        "# print(\"\"\"Best parameters:\n",
        "# - n_estimators=%d\n",
        "# - max_features=%d\n",
        "# - max_depth=%d\n",
        "# - min_samples_split=%d\n",
        "# - min_samples_leaf=%d\n",
        "# - criterion = %s\"\"\" % (res_gp.x[0], res_gp.x[1], \n",
        "#                             res_gp.x[2], res_gp.x[3], \n",
        "#                             res_gp.x[4], res_gp.x[5]))\n",
        "\n",
        "print(\"\"\"Best parameters:\n",
        "- n_estimators=%d\n",
        "- max_features=%d\n",
        "- max_depth=%d\n",
        "- min_samples_split=%d\n",
        "- min_samples_leaf=%d\"\"\" % (res_gp.x[0], res_gp.x[1], \n",
        "                            res_gp.x[2], res_gp.x[3], \n",
        "                            res_gp.x[4]))"
      ],
      "execution_count": 0,
      "outputs": [
        {
          "output_type": "stream",
          "text": [
            "Best parameters:\n",
            "- n_estimators=2000\n",
            "- max_features=37\n",
            "- max_depth=5\n",
            "- min_samples_split=2\n",
            "- min_samples_leaf=1\n"
          ],
          "name": "stdout"
        }
      ]
    },
    {
      "metadata": {
        "colab_type": "code",
        "outputId": "545ec24f-3841-4ced-84ab-beb76eec6d90",
        "id": "Im-6ZrDujijW",
        "colab": {
          "base_uri": "https://localhost:8080/",
          "height": 34
        }
      },
      "cell_type": "code",
      "source": [
        "i = 0\n",
        "l_rmspe = []\n",
        "l_mse = []\n",
        "l_rmse=[]\n",
        "\n",
        "while i <10:\n",
        "    x_train, x_test, y_train, y_test = train_test_split(df_all, y_au, test_size = 0.2)\n",
        "    m = RandomForestRegressor(n_estimators=2000, max_features=37, min_samples_leaf=1, max_depth = 5,\n",
        "                          min_samples_split = 2, n_jobs=-1, oob_score=True)\n",
        "    m.fit(x_train, y_train)\n",
        "    preds = m.predict(x_test)\n",
        "    l_rmspe.append(rmspe(preds, y_test))\n",
        "    l_mse.append(mean_squared_error(preds, y_test))\n",
        "    l_rmse.append(math.sqrt(mean_squared_error(preds, y_test)))\n",
        "    i+=1\n",
        "\n",
        "print(np.mean(l_rmspe), np.mean(l_mse), np.mean(l_rmse))"
      ],
      "execution_count": 0,
      "outputs": [
        {
          "output_type": "stream",
          "text": [
            "1.1451777946911472 0.013161642094730832 0.11416428609522382\n"
          ],
          "name": "stdout"
        }
      ]
    },
    {
      "metadata": {
        "id": "iXTobFHGuYPN",
        "colab_type": "code",
        "outputId": "e80bc047-3cb4-4f84-d8f9-5be393fbc55f",
        "colab": {
          "base_uri": "https://localhost:8080/",
          "height": 1105
        }
      },
      "cell_type": "code",
      "source": [
        "feature_importances = pd.DataFrame(m.feature_importances_,\n",
        "                                   index = x_train.columns,\n",
        "                                    columns=['importance']).sort_values('importance',ascending=False)\n",
        "print(feature_importances)"
      ],
      "execution_count": 0,
      "outputs": [
        {
          "output_type": "stream",
          "text": [
            "          importance\n",
            "Au      3.131873e-01\n",
            "auppm   2.304087e-01\n",
            "agppm   1.501268e-01\n",
            "midx    1.007796e-01\n",
            "midy    4.323349e-02\n",
            "midz    3.296875e-02\n",
            "length  2.584065e-02\n",
            "from    1.536959e-02\n",
            "Fe      1.334880e-02\n",
            "to      1.295521e-02\n",
            "As      1.011605e-02\n",
            "geocod  9.184072e-03\n",
            "Cu      6.933313e-03\n",
            "Te      4.964919e-03\n",
            "Al      4.586643e-03\n",
            "S       4.383775e-03\n",
            "Ca      2.251669e-03\n",
            "P       1.945394e-03\n",
            "K       1.828499e-03\n",
            "Mo      1.643639e-03\n",
            "Ni      1.451604e-03\n",
            "W       1.262401e-03\n",
            "Cd      1.258218e-03\n",
            "Na      1.057231e-03\n",
            "Mg      9.809115e-04\n",
            "Sb      8.202728e-04\n",
            "Mn      7.103363e-04\n",
            "Pb      6.835181e-04\n",
            "Cr      6.212240e-04\n",
            "Ta      5.587747e-04\n",
            "...              ...\n",
            "Si_na   1.667031e-05\n",
            "Nb_na   1.659171e-05\n",
            "Li      1.509992e-05\n",
            "Cu_na   1.385502e-05\n",
            "Mo_na   1.312147e-05\n",
            "P_na    1.182222e-05\n",
            "Ti_na   1.093124e-05\n",
            "Zn_na   9.378307e-06\n",
            "Bi_na   9.192515e-06\n",
            "K_na    7.854523e-06\n",
            "S_na    7.550282e-06\n",
            "Tl      7.491754e-06\n",
            "Mg_na   7.341172e-06\n",
            "Ca_na   6.081311e-06\n",
            "U       5.301532e-06\n",
            "Pd_na   3.491841e-06\n",
            "Sb_na   2.182099e-06\n",
            "Cd_na   2.109556e-06\n",
            "Co      1.547061e-06\n",
            "As_na   1.003987e-06\n",
            "Fe_na   8.434703e-07\n",
            "Nb      0.000000e+00\n",
            "Y       0.000000e+00\n",
            "Co_na   0.000000e+00\n",
            "Re_na   0.000000e+00\n",
            "Ta_na   0.000000e+00\n",
            "Mn_na   0.000000e+00\n",
            "Ni_na   0.000000e+00\n",
            "Pb_na   0.000000e+00\n",
            "Re      0.000000e+00\n",
            "\n",
            "[99 rows x 1 columns]\n"
          ],
          "name": "stdout"
        }
      ]
    },
    {
      "metadata": {
        "id": "v2KaE2u-xBsl",
        "colab_type": "code",
        "colab": {}
      },
      "cell_type": "code",
      "source": [
        ""
      ],
      "execution_count": 0,
      "outputs": []
    },
    {
      "metadata": {
        "id": "r0-aDO0W4BY-",
        "colab_type": "text"
      },
      "cell_type": "markdown",
      "source": [
        "### Using linear regression"
      ]
    },
    {
      "metadata": {
        "id": "7w6bxk4o4FLU",
        "colab_type": "code",
        "outputId": "90e68ab1-73a9-4e3c-dc53-bf6682018ad9",
        "colab": {
          "base_uri": "https://localhost:8080/",
          "height": 34
        }
      },
      "cell_type": "code",
      "source": [
        "i = 0\n",
        "l_rmspe = []\n",
        "l_mse = []\n",
        "l_rmse=[]\n",
        "\n",
        "while i <10:\n",
        "    x_train, x_test, y_train, y_test = train_test_split(df_all, y_au, test_size = 0.2)\n",
        "    m = LinearRegression(n_jobs=-1)\n",
        "    m.fit(x_train, y_train)\n",
        "    preds = m.predict(x_test)\n",
        "    l_rmspe.append(rmspe(preds, y_test))\n",
        "    l_mse.append(mean_squared_error(preds, y_test))\n",
        "    l_rmse.append(math.sqrt(mean_squared_error(preds, y_test)))\n",
        "    i+=1\n",
        "\n",
        "print(np.mean(l_rmspe), np.mean(l_mse), np.mean(l_rmse))"
      ],
      "execution_count": 0,
      "outputs": [
        {
          "output_type": "stream",
          "text": [
            "688.2234152896447 1628944.5061169674 598.357988980053\n"
          ],
          "name": "stdout"
        }
      ]
    },
    {
      "metadata": {
        "id": "FiEJ1r8y8gki",
        "colab_type": "text"
      },
      "cell_type": "markdown",
      "source": [
        "### Feature Importance"
      ]
    },
    {
      "metadata": {
        "colab_type": "text",
        "id": "wiRhetithh5y"
      },
      "cell_type": "markdown",
      "source": [
        "## Predicting agrec"
      ]
    },
    {
      "metadata": {
        "colab_type": "text",
        "id": "DWZBVQROhh6U"
      },
      "cell_type": "markdown",
      "source": [
        "### Random Forest"
      ]
    },
    {
      "metadata": {
        "colab_type": "code",
        "id": "flo4kvz24pON",
        "colab": {}
      },
      "cell_type": "code",
      "source": [
        "# initial rf model\n",
        "m = RandomForestRegressor(n_estimators=100, max_features=0.99, min_samples_leaf=2,\n",
        "                          n_jobs=-1, oob_score=True)"
      ],
      "execution_count": 0,
      "outputs": []
    },
    {
      "metadata": {
        "colab_type": "code",
        "id": "wvzVYYek4pOP",
        "colab": {}
      },
      "cell_type": "code",
      "source": [
        "# defining search space\n",
        "space = [Integer(10,2000, name='n_estimators'),\n",
        "         Integer(1, n_features, name='max_features'),\n",
        "         Integer(1, 5, name='max_depth'),\n",
        "         Integer(2, 100, name='min_samples_split'),\n",
        "         Integer(1, 100, name='min_samples_leaf')]\n"
      ],
      "execution_count": 0,
      "outputs": []
    },
    {
      "metadata": {
        "colab_type": "code",
        "id": "xuHsuyFB4pOR",
        "colab": {}
      },
      "cell_type": "code",
      "source": [
        "# estimator parameters\n",
        "# @use_named_args(space)\n",
        "# def objective(**params):\n",
        "#     m.set_params(**params)\n",
        "\n",
        "#     return -np.mean(cross_val_score(m, df_all, y_ag, cv=5, n_jobs=-1,\n",
        "#                                     scoring=\"neg_mean_squared_error\"))"
      ],
      "execution_count": 0,
      "outputs": []
    },
    {
      "metadata": {
        "id": "kA1ULTATUuo7",
        "colab_type": "code",
        "colab": {}
      },
      "cell_type": "code",
      "source": [
        "# trying a different objective function\n",
        "@use_named_args(space)\n",
        "def objective(**params):\n",
        "    m.set_params(**params)\n",
        "    i = 0\n",
        "    l_rmse=[]\n",
        "    while i<10:\n",
        "        x_train, x_test, y_train, y_test = train_test_split(df_all, y_nac, test_size = 0.2)\n",
        "        m.fit(x_train, y_train)\n",
        "        preds = m.predict(x_test)\n",
        "        l_rmse.append(math.sqrt(mean_squared_error(preds, y_test)))\n",
        "        i+=1\n",
        "\n",
        "    return np.mean(l_rmse)"
      ],
      "execution_count": 0,
      "outputs": []
    },
    {
      "metadata": {
        "colab_type": "code",
        "id": "2O3XN0ER4pOT",
        "colab": {}
      },
      "cell_type": "code",
      "source": [
        "from skopt import gp_minimize, forest_minimize, gbrt_minimize\n",
        "#res_gp = gp_minimize(objective, space, n_calls=50, random_state=0)\n",
        "#instead of gp_minimize can also use forest_minimize or gbrt_minimize\n",
        "\n",
        "%time res_gp = gp_minimize(objective, space, n_calls=50, random_state=0)\n",
        "\n",
        "\n",
        "\"Best score=%.4f\" % res_gp.fun"
      ],
      "execution_count": 0,
      "outputs": []
    },
    {
      "metadata": {
        "colab_type": "code",
        "outputId": "7a406b9b-767f-44cb-c225-c21af9f81fea",
        "id": "J62fYFh54pOU",
        "colab": {
          "base_uri": "https://localhost:8080/",
          "height": 118
        }
      },
      "cell_type": "code",
      "source": [
        "# print(\"\"\"Best parameters:\n",
        "# - n_estimators=%d\n",
        "# - max_features=%d\n",
        "# - max_depth=%d\n",
        "# - min_samples_split=%d\n",
        "# - min_samples_leaf=%d\n",
        "# - criterion = %s\"\"\" % (res_gp.x[0], res_gp.x[1], \n",
        "#                             res_gp.x[2], res_gp.x[3], \n",
        "#                             res_gp.x[4], res_gp.x[5]))\n",
        "\n",
        "print(\"\"\"Best parameters:\n",
        "- n_estimators=%d\n",
        "- max_features=%d\n",
        "- max_depth=%d\n",
        "- min_samples_split=%d\n",
        "- min_samples_leaf=%d\"\"\" % (res_gp.x[0], res_gp.x[1], \n",
        "                            res_gp.x[2], res_gp.x[3], \n",
        "                            res_gp.x[4]))"
      ],
      "execution_count": 0,
      "outputs": [
        {
          "output_type": "stream",
          "text": [
            "Best parameters:\n",
            "- n_estimators=2000\n",
            "- max_features=64\n",
            "- max_depth=5\n",
            "- min_samples_split=100\n",
            "- min_samples_leaf=1\n"
          ],
          "name": "stdout"
        }
      ]
    },
    {
      "metadata": {
        "id": "FlHX3wRLsvU3",
        "colab_type": "code",
        "outputId": "554aae76-d386-425a-cfec-f1d0f9a2c38f",
        "colab": {
          "base_uri": "https://localhost:8080/",
          "height": 34
        }
      },
      "cell_type": "code",
      "source": [
        "i = 0\n",
        "l_rmspe = []\n",
        "l_mse = []\n",
        "l_rmse=[]\n",
        "\n",
        "while i <10:\n",
        "    x_train, x_test, y_train, y_test = train_test_split(df_all, y_ag, test_size = 0.2)\n",
        "    m = RandomForestRegressor(n_estimators=2000, max_features=64, max_depth = 5,\n",
        "                              min_samples_split = 100, min_samples_leaf=1,\n",
        "                              n_jobs=-1, oob_score=True)\n",
        "    m.fit(x_train, y_train)\n",
        "    preds = m.predict(x_test)\n",
        "    l_rmspe.append(rmspe(preds, y_test))\n",
        "    l_mse.append(mean_squared_error(preds, y_test))\n",
        "    l_rmse.append(math.sqrt(mean_squared_error(preds, y_test)))\n",
        "    i+=1\n",
        "\n",
        "print(np.mean(l_rmspe), np.mean(l_mse), np.mean(l_rmse))\n",
        "    \n",
        "    \n",
        "\n"
      ],
      "execution_count": 0,
      "outputs": [
        {
          "output_type": "stream",
          "text": [
            "2.6144534209174477 0.029760376479352812 0.172404077891699\n"
          ],
          "name": "stdout"
        }
      ]
    },
    {
      "metadata": {
        "id": "1VdlGvgdz6Fc",
        "colab_type": "code",
        "outputId": "b4e37076-8750-412c-be97-8c53eb8f8d14",
        "colab": {
          "base_uri": "https://localhost:8080/",
          "height": 1092
        }
      },
      "cell_type": "code",
      "source": [
        "feature_importances = pd.DataFrame(m.feature_importances_,\n",
        "                                   index = x_train.columns,\n",
        "                                    columns=['importance']).sort_values('importance',ascending=False)\n",
        "print(feature_importances)"
      ],
      "execution_count": 0,
      "outputs": [
        {
          "output_type": "stream",
          "text": [
            "        importance\n",
            "midy      0.370724\n",
            "midx      0.210559\n",
            "Au        0.172396\n",
            "midz      0.073918\n",
            "Cu        0.073117\n",
            "geocod    0.019930\n",
            "Mn        0.009420\n",
            "Cd        0.009271\n",
            "length    0.008439\n",
            "Be        0.006367\n",
            "Ca        0.005572\n",
            "As        0.005384\n",
            "Sb        0.004848\n",
            "Bi        0.004610\n",
            "S         0.004130\n",
            "Fe        0.002749\n",
            "Mg        0.002444\n",
            "Na        0.001973\n",
            "Tl        0.001650\n",
            "K         0.001605\n",
            "Al        0.001539\n",
            "Zn        0.001384\n",
            "Ni        0.001199\n",
            "Pb        0.001175\n",
            "V         0.000987\n",
            "Au_na     0.000648\n",
            "Mo        0.000504\n",
            "U         0.000477\n",
            "B         0.000317\n",
            "Ba        0.000315\n",
            "...            ...\n",
            "Pd_na     0.000000\n",
            "Th_na     0.000000\n",
            "Ti_na     0.000000\n",
            "Tl_na     0.000000\n",
            "V_na      0.000000\n",
            "W_na      0.000000\n",
            "Y_na      0.000000\n",
            "Zn_na     0.000000\n",
            "Re_na     0.000000\n",
            "Pb_na     0.000000\n",
            "Ba_na     0.000000\n",
            "P_na      0.000000\n",
            "Be_na     0.000000\n",
            "Bi_na     0.000000\n",
            "Ca_na     0.000000\n",
            "Cd_na     0.000000\n",
            "Co_na     0.000000\n",
            "Cr_na     0.000000\n",
            "Cu_na     0.000000\n",
            "Fe_na     0.000000\n",
            "Al_na     0.000000\n",
            "K_na      0.000000\n",
            "W         0.000000\n",
            "Th        0.000000\n",
            "Mg_na     0.000000\n",
            "Mn_na     0.000000\n",
            "Mo_na     0.000000\n",
            "Na_na     0.000000\n",
            "Ni_na     0.000000\n",
            "Zr_na     0.000000\n",
            "\n",
            "[95 rows x 1 columns]\n"
          ],
          "name": "stdout"
        }
      ]
    },
    {
      "metadata": {
        "colab_type": "text",
        "id": "6jPe-2jThu_V"
      },
      "cell_type": "markdown",
      "source": [
        "## Predicting nacnc"
      ]
    },
    {
      "metadata": {
        "colab_type": "text",
        "id": "0g7ZfPpJhvAD"
      },
      "cell_type": "markdown",
      "source": [
        "### All info"
      ]
    },
    {
      "metadata": {
        "colab_type": "code",
        "id": "3km_fIxQhvAJ",
        "colab": {}
      },
      "cell_type": "code",
      "source": [
        "m = RandomForestRegressor(n_estimators=100, max_features=0.99, min_samples_leaf=2,\n",
        "                          n_jobs=-1, oob_score=True)"
      ],
      "execution_count": 0,
      "outputs": []
    },
    {
      "metadata": {
        "colab_type": "code",
        "id": "V4QhlbCZ8vnx",
        "colab": {}
      },
      "cell_type": "code",
      "source": [
        "# defining search space\n",
        "space = [Integer(100,2000, name='n_estimators'),\n",
        "         Integer(1, n_features, name='max_features'),\n",
        "         Integer(1, 5, name='max_depth'),\n",
        "         Integer(2, 100, name='min_samples_split'),\n",
        "         Integer(1, 100, name='min_samples_leaf')]\n"
      ],
      "execution_count": 0,
      "outputs": []
    },
    {
      "metadata": {
        "colab_type": "code",
        "id": "L4UCwYjD8vn0",
        "colab": {}
      },
      "cell_type": "code",
      "source": [
        "# estimator parameters\n",
        "# @use_named_args(space)\n",
        "# def objective(**params):\n",
        "#     m.set_params(**params)\n",
        "\n",
        "#     return -np.mean(cross_val_score(m, df_all, y_nac, cv=5, n_jobs=-1,\n",
        "#                                     scoring=\"neg_mean_squared_error\"))"
      ],
      "execution_count": 0,
      "outputs": []
    },
    {
      "metadata": {
        "id": "QbyCxYZ5NqHY",
        "colab_type": "code",
        "colab": {}
      },
      "cell_type": "code",
      "source": [
        "# trying a different objective function\n",
        "@use_named_args(space)\n",
        "def objective(**params):\n",
        "    m.set_params(**params)\n",
        "    i = 0\n",
        "    l_rmse=[]\n",
        "    while i<10:\n",
        "        x_train, x_test, y_train, y_test = train_test_split(df_all, y_nac, test_size = 0.2)\n",
        "        m.fit(x_train, y_train)\n",
        "        preds = m.predict(x_test)\n",
        "        l_rmse.append(math.sqrt(mean_squared_error(preds, y_test)))\n",
        "        i+=1\n",
        "\n",
        "    return np.mean(l_rmse)"
      ],
      "execution_count": 0,
      "outputs": []
    },
    {
      "metadata": {
        "colab_type": "code",
        "id": "EkRDHgWB8vn3",
        "colab": {}
      },
      "cell_type": "code",
      "source": [
        "from skopt import gp_minimize, forest_minimize, gbrt_minimize\n",
        "#res_gp = gp_minimize(objective, space, n_calls=50, random_state=0)\n",
        "#instead of gp_minimize can also use forest_minimize or gbrt_minimize\n",
        "\n",
        "%time res_gp = gp_minimize(objective, space, n_calls=50, random_state=0)\n",
        "\n",
        "\n",
        "\"Best score=%.4f\" % res_gp.fun"
      ],
      "execution_count": 0,
      "outputs": []
    },
    {
      "metadata": {
        "colab_type": "code",
        "outputId": "904f73d2-ce82-4165-d833-e351180ca83d",
        "id": "ohFKKBhh8vn7",
        "colab": {
          "base_uri": "https://localhost:8080/",
          "height": 118
        }
      },
      "cell_type": "code",
      "source": [
        "# print(\"\"\"Best parameters:\n",
        "# - n_estimators=%d\n",
        "# - max_features=%d\n",
        "# - max_depth=%d\n",
        "# - min_samples_split=%d\n",
        "# - min_samples_leaf=%d\n",
        "# - criterion = %s\"\"\" % (res_gp.x[0], res_gp.x[1], \n",
        "#                             res_gp.x[2], res_gp.x[3], \n",
        "#                             res_gp.x[4], res_gp.x[5]))\n",
        "\n",
        "print(\"\"\"Best parameters:\n",
        "- n_estimators=%d\n",
        "- max_features=%d\n",
        "- max_depth=%d\n",
        "- min_samples_split=%d\n",
        "- min_samples_leaf=%d\"\"\" % (res_gp.x[0], res_gp.x[1], \n",
        "                            res_gp.x[2], res_gp.x[3], \n",
        "                            res_gp.x[4]))"
      ],
      "execution_count": 0,
      "outputs": [
        {
          "output_type": "stream",
          "text": [
            "Best parameters:\n",
            "- n_estimators=2000\n",
            "- max_features=54\n",
            "- max_depth=5\n",
            "- min_samples_split=100\n",
            "- min_samples_leaf=1\n"
          ],
          "name": "stdout"
        }
      ]
    },
    {
      "metadata": {
        "id": "yQMPitRKuEQH",
        "colab_type": "code",
        "outputId": "db3d03c8-2ca0-4fb0-8ac2-65c5bd396ff9",
        "colab": {
          "base_uri": "https://localhost:8080/",
          "height": 34
        }
      },
      "cell_type": "code",
      "source": [
        "i = 0\n",
        "l_rmspe = []\n",
        "l_mse = []\n",
        "l_rmse=[]\n",
        "\n",
        "while i <10:\n",
        "    x_train, x_test, y_train, y_test = train_test_split(df_all, y_nac, test_size = 0.2)\n",
        "    m = RandomForestRegressor(n_estimators=2000, max_features=54, max_depth = 5,\n",
        "                              min_samples_split = 1000, min_samples_leaf=1,\n",
        "                              n_jobs=-1, oob_score=True)\n",
        "    m.fit(x_train, y_train)\n",
        "    preds = m.predict(x_test)\n",
        "    l_rmspe.append(rmspe(preds, y_test))\n",
        "    l_mse.append(mean_squared_error(preds, y_test))\n",
        "    l_rmse.append(math.sqrt(mean_squared_error(preds, y_test)))\n",
        "    i+=1\n",
        "\n",
        "print(np.mean(l_rmspe), np.mean(l_mse), np.mean(l_rmse))"
      ],
      "execution_count": 0,
      "outputs": [
        {
          "output_type": "stream",
          "text": [
            "6.515876971466701 3.849940953937069 1.9604570184542012\n"
          ],
          "name": "stdout"
        }
      ]
    },
    {
      "metadata": {
        "id": "dIO-wiH01O73",
        "colab_type": "code",
        "outputId": "33895aa8-68ea-4dda-efae-21a88e8aaee8",
        "colab": {
          "base_uri": "https://localhost:8080/",
          "height": 1092
        }
      },
      "cell_type": "code",
      "source": [
        "feature_importances = pd.DataFrame(m.feature_importances_,\n",
        "                                   index = x_train.columns,\n",
        "                                    columns=['importance']).sort_values('importance',ascending=False)\n",
        "print(feature_importances)"
      ],
      "execution_count": 0,
      "outputs": [
        {
          "output_type": "stream",
          "text": [
            "          importance\n",
            "midx    2.515503e-01\n",
            "midy    2.489335e-01\n",
            "Au      1.603017e-01\n",
            "midz    9.430119e-02\n",
            "Si      4.326038e-02\n",
            "Cr      3.087611e-02\n",
            "length  3.006779e-02\n",
            "geocod  2.855739e-02\n",
            "Sb      1.750590e-02\n",
            "Cu      1.008206e-02\n",
            "Na      6.291159e-03\n",
            "Pb      5.879235e-03\n",
            "Bi      5.323708e-03\n",
            "Hg      4.602155e-03\n",
            "Ni      4.120284e-03\n",
            "Ti      3.764801e-03\n",
            "Pd      3.763132e-03\n",
            "Fe      3.497116e-03\n",
            "Mo      2.888830e-03\n",
            "V       2.271929e-03\n",
            "Sr_na   2.210043e-03\n",
            "S       2.179152e-03\n",
            "V_na    2.117365e-03\n",
            "Al      2.111854e-03\n",
            "Ba_na   2.055800e-03\n",
            "Tl_na   2.035102e-03\n",
            "Au_na   2.000147e-03\n",
            "La_na   1.881024e-03\n",
            "Zr_na   1.873852e-03\n",
            "Zn      1.708961e-03\n",
            "...              ...\n",
            "Al_na   7.450268e-05\n",
            "La      7.200837e-05\n",
            "Ti_na   7.073030e-05\n",
            "Se      6.736753e-05\n",
            "Co_na   6.724607e-05\n",
            "Li_na   6.391974e-05\n",
            "Sn      6.131760e-05\n",
            "Y_na    5.993280e-05\n",
            "Be_na   5.919882e-05\n",
            "Th      5.708029e-05\n",
            "Ca_na   5.372606e-05\n",
            "Zn_na   5.213544e-05\n",
            "Re_na   5.058859e-05\n",
            "Cd_na   5.053027e-05\n",
            "U       5.041665e-05\n",
            "Mn_na   4.784474e-05\n",
            "Hg_na   4.537419e-05\n",
            "Ni_na   4.361680e-05\n",
            "K_na    3.900362e-05\n",
            "Pd_na   3.557600e-05\n",
            "Co      2.755505e-05\n",
            "Ta      2.500569e-05\n",
            "Th_na   2.371121e-05\n",
            "Ta_na   1.980591e-05\n",
            "Tl      1.549121e-05\n",
            "Sc_na   1.144771e-05\n",
            "Y       1.081502e-05\n",
            "Nb_na   8.261618e-06\n",
            "Re      1.781593e-06\n",
            "Nb      3.127134e-07\n",
            "\n",
            "[95 rows x 1 columns]\n"
          ],
          "name": "stdout"
        }
      ]
    },
    {
      "metadata": {
        "id": "3-rdvF46kHz7",
        "colab_type": "text"
      },
      "cell_type": "markdown",
      "source": [
        "## Observations\n",
        "\n"
      ]
    },
    {
      "metadata": {
        "id": "N9rW9ENx2yE-",
        "colab_type": "code",
        "colab": {}
      },
      "cell_type": "code",
      "source": [
        ""
      ],
      "execution_count": 0,
      "outputs": []
    },
    {
      "metadata": {
        "colab_type": "text",
        "id": "-kVgDJysRRbA"
      },
      "cell_type": "markdown",
      "source": [
        "# Test 2\n",
        "\n",
        "Removing midx, mixy, mixz from the data"
      ]
    },
    {
      "metadata": {
        "colab_type": "code",
        "id": "TI6Ev3D5RRbB",
        "colab": {}
      },
      "cell_type": "code",
      "source": [
        "df_all = df[['geocod', 'length',\n",
        "             'Al', 'As', 'Au', 'B', 'Ba', 'Be', 'Bi', 'Ca',\n",
        "             'Cd', 'Co', 'Cr', 'Cu', 'Fe', 'Hg', 'K', 'La', 'Li', 'Mg',\n",
        "             'Mn', 'Mo', 'Na',\n",
        "             'Nb', 'Ni', 'P', 'Pb', 'Pd', 'Re', 'S', 'Sb', 'Se',\n",
        "             'Si', 'Sc', 'Sn', 'Sr',\n",
        "             'Ta', 'Te', 'Th', 'Ti', 'Tl', 'U', 'V', 'W', 'Y', 'Zn', 'Zr', \n",
        "             'Al_na', 'As_na', 'Au_na', 'B_na', 'Ba_na', 'Be_na', 'Bi_na', 'Ca_na',\n",
        "             'Cd_na', 'Co_na', 'Cr_na', 'Cu_na', 'Fe_na', 'Hg_na', 'K_na', 'La_na', 'Li_na', 'Mg_na',\n",
        "             'Mn_na', 'Mo_na', 'Na_na',\n",
        "             'Nb_na', 'Ni_na', 'P_na', 'Pb_na', 'Pd_na', 'Re_na', 'S_na', 'Sb_na', 'Se_na',\n",
        "             'Si_na', 'Sc_na', 'Sn_na', 'Sr_na',\n",
        "             'Ta_na', 'Te_na', 'Th_na', 'Ti_na', 'Tl_na', 'U_na', 'V_na', 'W_na', 'Y_na', 'Zn_na', 'Zr_na']]\n",
        "\n",
        "y_au = df['aurec']\n",
        "y_ag = df['agrec']\n",
        "y_nac = df['nacnc']\n",
        "y_codt = df['codt']"
      ],
      "execution_count": 0,
      "outputs": []
    },
    {
      "metadata": {
        "colab_type": "code",
        "id": "UnKUKd7xRRbC",
        "colab": {}
      },
      "cell_type": "code",
      "source": [
        "# defining function to evaluate exp_rmse\n",
        "def inv_y(a): return np.exp(a)\n",
        "\n",
        "def exp_rmspe(y_pred, targ):\n",
        "    targ = inv_y(targ)\n",
        "    pct_var = (targ - inv_y(y_pred))/targ\n",
        "    return math.sqrt((pct_var**2).mean())\n",
        "\n",
        "def rmspe(y_pred, targ):\n",
        "    pct_var = (targ - y_pred)/targ\n",
        "    return math.sqrt((pct_var**2).mean())"
      ],
      "execution_count": 0,
      "outputs": []
    },
    {
      "metadata": {
        "colab_type": "code",
        "id": "7mZAKRLGRRbG",
        "colab": {}
      },
      "cell_type": "code",
      "source": [
        "from sklearn.ensemble import RandomForestRegressor, RandomForestClassifier\n",
        "from sklearn.model_selection import train_test_split\n",
        "from sklearn.metrics import mean_squared_error\n",
        "from sklearn.feature_selection import f_regression\n",
        "from sklearn.linear_model import LogisticRegression, LinearRegression\n"
      ],
      "execution_count": 0,
      "outputs": []
    },
    {
      "metadata": {
        "colab_type": "code",
        "id": "rDRV_yX7RRbJ",
        "colab": {}
      },
      "cell_type": "code",
      "source": [
        "n_features = df_all.shape[1]\n",
        "from sklearn.model_selection import cross_val_score\n",
        "from skopt.space import Real, Integer, Categorical \n",
        "from skopt.utils import use_named_args\n",
        "from skopt import gp_minimize, forest_minimize, gbrt_minimize\n"
      ],
      "execution_count": 0,
      "outputs": []
    },
    {
      "metadata": {
        "colab_type": "code",
        "id": "q-Clw0DsRRbK",
        "outputId": "4aa95734-800c-4070-fd6f-092bb5b781ee",
        "colab": {
          "base_uri": "https://localhost:8080/",
          "height": 605
        }
      },
      "cell_type": "code",
      "source": [
        "# list of valid scoring methods for objective function\n",
        "from sklearn.metrics import SCORERS\n",
        "\n",
        "sorted(SCORERS.keys()) "
      ],
      "execution_count": 0,
      "outputs": [
        {
          "output_type": "execute_result",
          "data": {
            "text/plain": [
              "['accuracy',\n",
              " 'adjusted_mutual_info_score',\n",
              " 'adjusted_rand_score',\n",
              " 'average_precision',\n",
              " 'balanced_accuracy',\n",
              " 'brier_score_loss',\n",
              " 'completeness_score',\n",
              " 'explained_variance',\n",
              " 'f1',\n",
              " 'f1_macro',\n",
              " 'f1_micro',\n",
              " 'f1_samples',\n",
              " 'f1_weighted',\n",
              " 'fowlkes_mallows_score',\n",
              " 'homogeneity_score',\n",
              " 'mutual_info_score',\n",
              " 'neg_log_loss',\n",
              " 'neg_mean_absolute_error',\n",
              " 'neg_mean_squared_error',\n",
              " 'neg_mean_squared_log_error',\n",
              " 'neg_median_absolute_error',\n",
              " 'normalized_mutual_info_score',\n",
              " 'precision',\n",
              " 'precision_macro',\n",
              " 'precision_micro',\n",
              " 'precision_samples',\n",
              " 'precision_weighted',\n",
              " 'r2',\n",
              " 'recall',\n",
              " 'recall_macro',\n",
              " 'recall_micro',\n",
              " 'recall_samples',\n",
              " 'recall_weighted',\n",
              " 'roc_auc',\n",
              " 'v_measure_score']"
            ]
          },
          "metadata": {
            "tags": []
          },
          "execution_count": 33
        }
      ]
    },
    {
      "metadata": {
        "colab_type": "text",
        "id": "Q5t2YDsGRRbM"
      },
      "cell_type": "markdown",
      "source": [
        "## Predicting codt class"
      ]
    },
    {
      "metadata": {
        "colab_type": "text",
        "id": "9Gy3BXz4RRbO"
      },
      "cell_type": "markdown",
      "source": [
        "### Random Forest"
      ]
    },
    {
      "metadata": {
        "colab_type": "text",
        "id": "3a23_HFMRRbO"
      },
      "cell_type": "markdown",
      "source": [
        "using bayesian optimization to tune random forest"
      ]
    },
    {
      "metadata": {
        "colab_type": "code",
        "id": "L3oXManxRRbP",
        "colab": {}
      },
      "cell_type": "code",
      "source": [
        "# Defining initial rf model\n",
        "m = RandomForestClassifier(n_estimators=100, max_features=0.99, min_samples_leaf=2,\n",
        "                          n_jobs=-1, oob_score=True)"
      ],
      "execution_count": 0,
      "outputs": []
    },
    {
      "metadata": {
        "colab_type": "code",
        "id": "lmPuADwHRRbR",
        "colab": {}
      },
      "cell_type": "code",
      "source": [
        "# defining search space for RF\n",
        "space = [Integer(100,2000, name='n_estimators'),\n",
        "         Integer(1, n_features, name='max_features'),\n",
        "         Integer(1, 5, name='max_depth'),\n",
        "         Integer(2, 100, name='min_samples_split'),\n",
        "         Integer(1, 100, name='min_samples_leaf'),\n",
        "         Categorical(['gini', 'entropy'], name = 'criterion')]"
      ],
      "execution_count": 0,
      "outputs": []
    },
    {
      "metadata": {
        "colab_type": "code",
        "id": "rUR3-yPKRRbT",
        "colab": {}
      },
      "cell_type": "code",
      "source": [
        "# estimator parameters\n",
        "@use_named_args(space)\n",
        "def objective(**params):\n",
        "    m.set_params(**params)\n",
        "\n",
        "    return -np.mean(cross_val_score(m, df_all, y_codt, cv=5, n_jobs=-1,\n",
        "                                    scoring=\"accuracy\"))"
      ],
      "execution_count": 0,
      "outputs": []
    },
    {
      "metadata": {
        "colab_type": "code",
        "id": "8yvyJ9zZRRbU",
        "outputId": "bd8668e9-97cd-40b3-8c3c-e7f130867f99",
        "colab": {
          "base_uri": "https://localhost:8080/",
          "height": 67
        }
      },
      "cell_type": "code",
      "source": [
        "#instead of gp_minimize can also use forest_minimize or gbrt_minimize\n",
        "\n",
        "%time res_gp = gp_minimize(objective, space, n_calls=50, random_state=0)\n",
        "\n",
        "\n",
        "\n",
        "\n",
        "\"Best score=%.4f\" % res_gp.fun"
      ],
      "execution_count": 0,
      "outputs": [
        {
          "output_type": "stream",
          "text": [
            "CPU times: user 45.8 s, sys: 28.9 s, total: 1min 14s\n",
            "Wall time: 10min 6s\n"
          ],
          "name": "stdout"
        },
        {
          "output_type": "execute_result",
          "data": {
            "text/plain": [
              "'Best score=-0.7625'"
            ]
          },
          "metadata": {
            "tags": []
          },
          "execution_count": 42
        }
      ]
    },
    {
      "metadata": {
        "colab_type": "code",
        "id": "SBd4GzT5RRbW",
        "outputId": "a307f4b2-870b-4fde-f7d5-c11b1372492c",
        "colab": {
          "base_uri": "https://localhost:8080/",
          "height": 134
        }
      },
      "cell_type": "code",
      "source": [
        "print(\"\"\"Best parameters:\n",
        "- n_estimators=%d\n",
        "- max_features=%d\n",
        "- max_depth=%d\n",
        "- min_samples_split=%d\n",
        "- min_samples_leaf=%d\n",
        "- criterion = %s\"\"\" % (res_gp.x[0], res_gp.x[1], \n",
        "                            res_gp.x[2], res_gp.x[3], \n",
        "                            res_gp.x[4], res_gp.x[5]))"
      ],
      "execution_count": 0,
      "outputs": [
        {
          "output_type": "stream",
          "text": [
            "Best parameters:\n",
            "- n_estimators=100\n",
            "- max_features=92\n",
            "- max_depth=5\n",
            "- min_samples_split=100\n",
            "- min_samples_leaf=1\n",
            "- criterion = entropy\n"
          ],
          "name": "stdout"
        }
      ]
    },
    {
      "metadata": {
        "colab_type": "text",
        "id": "HkId00SgRRbe"
      },
      "cell_type": "markdown",
      "source": [
        "Fitting model with the tuned hyperparameters"
      ]
    },
    {
      "metadata": {
        "colab_type": "code",
        "id": "-Cf8tRocRRbe",
        "colab": {}
      },
      "cell_type": "code",
      "source": [
        "x_train, x_test, y_train, y_test = train_test_split(df_all, y_codt, test_size = 0.2)"
      ],
      "execution_count": 0,
      "outputs": []
    },
    {
      "metadata": {
        "colab_type": "code",
        "outputId": "6db83d71-a1be-47bf-f3a4-cf5991aa2fca",
        "id": "ASdEK1KgRRbg",
        "colab": {
          "base_uri": "https://localhost:8080/",
          "height": 118
        }
      },
      "cell_type": "code",
      "source": [
        "# m = RandomForestClassifier(n_estimators=100, max_features=0.99, min_samples_leaf=2,\n",
        "#                           n_jobs=-1, oob_score=True)\n",
        "\n",
        "m = RandomForestClassifier(n_estimators=100, max_features=92, min_samples_leaf=1,\n",
        "                           max_depth = 5, min_samples_split = 100, n_jobs=-1, oob_score=True)\n",
        "\n",
        "m.fit(x_train, y_train)"
      ],
      "execution_count": 0,
      "outputs": [
        {
          "output_type": "execute_result",
          "data": {
            "text/plain": [
              "RandomForestClassifier(bootstrap=True, class_weight=None, criterion='gini',\n",
              "            max_depth=5, max_features=92, max_leaf_nodes=None,\n",
              "            min_impurity_decrease=0.0, min_impurity_split=None,\n",
              "            min_samples_leaf=1, min_samples_split=100,\n",
              "            min_weight_fraction_leaf=0.0, n_estimators=100, n_jobs=-1,\n",
              "            oob_score=True, random_state=None, verbose=0, warm_start=False)"
            ]
          },
          "metadata": {
            "tags": []
          },
          "execution_count": 60
        }
      ]
    },
    {
      "metadata": {
        "colab_type": "code",
        "outputId": "c0cadf07-b1ef-4e5a-8999-ea177bc69691",
        "id": "GqsE2MjzRRbi",
        "colab": {
          "base_uri": "https://localhost:8080/",
          "height": 34
        }
      },
      "cell_type": "code",
      "source": [
        "m.score(x_test, y_test)"
      ],
      "execution_count": 0,
      "outputs": [
        {
          "output_type": "execute_result",
          "data": {
            "text/plain": [
              "0.8492647058823529"
            ]
          },
          "metadata": {
            "tags": []
          },
          "execution_count": 61
        }
      ]
    },
    {
      "metadata": {
        "colab_type": "code",
        "outputId": "3223d23c-afea-49bb-8df3-0752ee30708d",
        "id": "MHhezs1yRRbk",
        "colab": {
          "base_uri": "https://localhost:8080/",
          "height": 84
        }
      },
      "cell_type": "code",
      "source": [
        "from sklearn.metrics import confusion_matrix\n",
        "\n",
        "confusion_matrix(m.predict(x_test), y_test)"
      ],
      "execution_count": 0,
      "outputs": [
        {
          "output_type": "execute_result",
          "data": {
            "text/plain": [
              "array([[101,   1,  21,   5],\n",
              "       [  0,   0,   0,   0],\n",
              "       [  0,   0,   0,   0],\n",
              "       [  9,   5,   0, 130]])"
            ]
          },
          "metadata": {
            "tags": []
          },
          "execution_count": 62
        }
      ]
    },
    {
      "metadata": {
        "colab_type": "code",
        "outputId": "f474babb-0636-48a6-8674-3721e861bf1b",
        "id": "SjcL7GpiRRbl",
        "colab": {
          "base_uri": "https://localhost:8080/",
          "height": 255
        }
      },
      "cell_type": "code",
      "source": [
        "from sklearn.metrics import classification_report\n",
        "\n",
        "print(classification_report(m.predict(x_test), y_test))"
      ],
      "execution_count": 0,
      "outputs": [
        {
          "output_type": "stream",
          "text": [
            "              precision    recall  f1-score   support\n",
            "\n",
            "           1       0.92      0.79      0.85       128\n",
            "           2       0.00      0.00      0.00         0\n",
            "           3       0.00      0.00      0.00         0\n",
            "           4       0.96      0.90      0.93       144\n",
            "\n",
            "   micro avg       0.85      0.85      0.85       272\n",
            "   macro avg       0.47      0.42      0.45       272\n",
            "weighted avg       0.94      0.85      0.89       272\n",
            "\n"
          ],
          "name": "stdout"
        },
        {
          "output_type": "stream",
          "text": [
            "/usr/local/lib/python3.6/dist-packages/sklearn/metrics/classification.py:1145: UndefinedMetricWarning: Recall and F-score are ill-defined and being set to 0.0 in labels with no true samples.\n",
            "  'recall', 'true', average, warn_for)\n"
          ],
          "name": "stderr"
        }
      ]
    },
    {
      "metadata": {
        "colab_type": "code",
        "outputId": "28225127-8993-4238-8fe0-b99459b4143b",
        "id": "0ZbJlhnkRRbn",
        "colab": {
          "base_uri": "https://localhost:8080/",
          "height": 1092
        }
      },
      "cell_type": "code",
      "source": [
        "feature_importances = pd.DataFrame(m.feature_importances_,\n",
        "                                   index = x_train.columns,\n",
        "                                    columns=['importance']).sort_values('importance',ascending=False)\n",
        "print(feature_importances)"
      ],
      "execution_count": 0,
      "outputs": [
        {
          "output_type": "stream",
          "text": [
            "        importance\n",
            "geocod    0.915311\n",
            "Ca        0.032101\n",
            "length    0.016195\n",
            "Au        0.012147\n",
            "Zn        0.010366\n",
            "Mg        0.008820\n",
            "Al        0.001758\n",
            "As        0.000638\n",
            "K         0.000566\n",
            "Be        0.000405\n",
            "V         0.000287\n",
            "Cu        0.000274\n",
            "Ni        0.000219\n",
            "S         0.000218\n",
            "Cd        0.000199\n",
            "Pd        0.000143\n",
            "Ti        0.000121\n",
            "W_na      0.000102\n",
            "Hg        0.000088\n",
            "Mn        0.000044\n",
            "Y_na      0.000000\n",
            "Nb_na     0.000000\n",
            "Na_na     0.000000\n",
            "Mo_na     0.000000\n",
            "Mn_na     0.000000\n",
            "Mg_na     0.000000\n",
            "Zn_na     0.000000\n",
            "P_na      0.000000\n",
            "Li_na     0.000000\n",
            "La_na     0.000000\n",
            "...            ...\n",
            "Nb        0.000000\n",
            "Na        0.000000\n",
            "Mo        0.000000\n",
            "Li        0.000000\n",
            "La        0.000000\n",
            "Fe        0.000000\n",
            "Cr        0.000000\n",
            "Co        0.000000\n",
            "Bi        0.000000\n",
            "Ba        0.000000\n",
            "B         0.000000\n",
            "Se        0.000000\n",
            "Si        0.000000\n",
            "Sc        0.000000\n",
            "Y         0.000000\n",
            "Be_na     0.000000\n",
            "Ba_na     0.000000\n",
            "B_na      0.000000\n",
            "Au_na     0.000000\n",
            "As_na     0.000000\n",
            "Al_na     0.000000\n",
            "W         0.000000\n",
            "Sn        0.000000\n",
            "U         0.000000\n",
            "Tl        0.000000\n",
            "Th        0.000000\n",
            "Te        0.000000\n",
            "Ta        0.000000\n",
            "Sr        0.000000\n",
            "Zr_na     0.000000\n",
            "\n",
            "[92 rows x 1 columns]\n"
          ],
          "name": "stdout"
        }
      ]
    },
    {
      "metadata": {
        "colab_type": "text",
        "id": "aVFIV2KzRRbq"
      },
      "cell_type": "markdown",
      "source": [
        "## Predicting aurec"
      ]
    },
    {
      "metadata": {
        "id": "lPFYWZ8ZSz3I",
        "colab_type": "text"
      },
      "cell_type": "markdown",
      "source": [
        ""
      ]
    },
    {
      "metadata": {
        "colab_type": "text",
        "id": "8id0UpKeRRbq"
      },
      "cell_type": "markdown",
      "source": [
        "### All info"
      ]
    },
    {
      "metadata": {
        "colab_type": "code",
        "id": "jYrsr0KaRRbq",
        "colab": {}
      },
      "cell_type": "code",
      "source": [
        "# initial rf model\n",
        "m = RandomForestRegressor(n_estimators=100, max_features=0.99, min_samples_leaf=2,\n",
        "                          n_jobs=-1, oob_score=True)"
      ],
      "execution_count": 0,
      "outputs": []
    },
    {
      "metadata": {
        "colab_type": "code",
        "id": "oIcDQCTNRRbt",
        "colab": {}
      },
      "cell_type": "code",
      "source": [
        "# defining search space\n",
        "space = [Integer(100,2000, name='n_estimators'),\n",
        "         Integer(1, n_features, name='max_features'),\n",
        "         Integer(1, 5, name='max_depth'),\n",
        "         Integer(2, 100, name='min_samples_split'),\n",
        "         Integer(1, 100, name='min_samples_leaf')]\n"
      ],
      "execution_count": 0,
      "outputs": []
    },
    {
      "metadata": {
        "colab_type": "code",
        "id": "oo6gFvClRRbu",
        "colab": {}
      },
      "cell_type": "code",
      "source": [
        "# # estimator parameters\n",
        "# @use_named_args(space)\n",
        "# def objective(**params):\n",
        "#     m.set_params(**params)\n",
        "\n",
        "#     return -np.mean(cross_val_score(m, df_all, y_au, cv=5, n_jobs=-1,\n",
        "#                                     scoring=\"neg_mean_squared_error\"))"
      ],
      "execution_count": 0,
      "outputs": []
    },
    {
      "metadata": {
        "colab_type": "code",
        "id": "v6ZbpS0zRRbv",
        "colab": {}
      },
      "cell_type": "code",
      "source": [
        "# trying a different objective function\n",
        "@use_named_args(space)\n",
        "def objective(**params):\n",
        "    m.set_params(**params)\n",
        "    i = 0\n",
        "    l_rmse=[]\n",
        "    while i<10:\n",
        "        x_train, x_test, y_train, y_test = train_test_split(df_all, y_nac, test_size = 0.2)\n",
        "        m.fit(x_train, y_train)\n",
        "        preds = m.predict(x_test)\n",
        "        l_rmse.append(math.sqrt(mean_squared_error(preds, y_test)))\n",
        "        i+=1\n",
        "\n",
        "    return np.mean(l_rmse)"
      ],
      "execution_count": 0,
      "outputs": []
    },
    {
      "metadata": {
        "colab_type": "code",
        "id": "hHW9N_UARRbw",
        "outputId": "224f5be7-11b3-43cb-dabf-6516f6ffa40a",
        "colab": {
          "base_uri": "https://localhost:8080/",
          "height": 154
        }
      },
      "cell_type": "code",
      "source": [
        "from skopt import gp_minimize, forest_minimize, gbrt_minimize\n",
        "#res_gp = gp_minimize(objective, space, n_calls=50, random_state=0)\n",
        "#instead of gp_minimize can also use forest_minimize or gbrt_minimize\n",
        "\n",
        "%time res_gp = gp_minimize(objective, space, n_calls=50, random_state=0)\n",
        "\n",
        "\n",
        "\"Best score=%.4f\" % res_gp.fun"
      ],
      "execution_count": 0,
      "outputs": [
        {
          "output_type": "stream",
          "text": [
            "/usr/local/lib/python3.6/dist-packages/skopt/optimizer/optimizer.py:399: UserWarning: The objective has been evaluated at this point before.\n",
            "  warnings.warn(\"The objective has been evaluated \"\n",
            "/usr/local/lib/python3.6/dist-packages/skopt/optimizer/optimizer.py:399: UserWarning: The objective has been evaluated at this point before.\n",
            "  warnings.warn(\"The objective has been evaluated \"\n"
          ],
          "name": "stderr"
        },
        {
          "output_type": "stream",
          "text": [
            "CPU times: user 23min 44s, sys: 1min 53s, total: 25min 37s\n",
            "Wall time: 17min 33s\n"
          ],
          "name": "stdout"
        },
        {
          "output_type": "execute_result",
          "data": {
            "text/plain": [
              "'Best score=1.6952'"
            ]
          },
          "metadata": {
            "tags": []
          },
          "execution_count": 74
        }
      ]
    },
    {
      "metadata": {
        "colab_type": "code",
        "outputId": "acd800dc-7e36-4bb3-9b44-6cc8a7c143b0",
        "id": "QF0gS4UjRRby",
        "colab": {
          "base_uri": "https://localhost:8080/",
          "height": 118
        }
      },
      "cell_type": "code",
      "source": [
        "# print(\"\"\"Best parameters:\n",
        "# - n_estimators=%d\n",
        "# - max_features=%d\n",
        "# - max_depth=%d\n",
        "# - min_samples_split=%d\n",
        "# - min_samples_leaf=%d\n",
        "# - criterion = %s\"\"\" % (res_gp.x[0], res_gp.x[1], \n",
        "#                             res_gp.x[2], res_gp.x[3], \n",
        "#                             res_gp.x[4], res_gp.x[5]))\n",
        "\n",
        "print(\"\"\"Best parameters:\n",
        "- n_estimators=%d\n",
        "- max_features=%d\n",
        "- max_depth=%d\n",
        "- min_samples_split=%d\n",
        "- min_samples_leaf=%d\"\"\" % (res_gp.x[0], res_gp.x[1], \n",
        "                            res_gp.x[2], res_gp.x[3], \n",
        "                            res_gp.x[4]))"
      ],
      "execution_count": 0,
      "outputs": [
        {
          "output_type": "stream",
          "text": [
            "Best parameters:\n",
            "- n_estimators=100\n",
            "- max_features=55\n",
            "- max_depth=4\n",
            "- min_samples_split=12\n",
            "- min_samples_leaf=12\n"
          ],
          "name": "stdout"
        }
      ]
    },
    {
      "metadata": {
        "colab_type": "code",
        "outputId": "1982ea75-ad16-4ca7-8101-0cc95221ecb8",
        "id": "62MO4OyFRRbz",
        "colab": {
          "base_uri": "https://localhost:8080/",
          "height": 34
        }
      },
      "cell_type": "code",
      "source": [
        "i = 0\n",
        "l_rmspe = []\n",
        "l_mse = []\n",
        "l_rmse=[]\n",
        "\n",
        "while i <10:\n",
        "    x_train, x_test, y_train, y_test = train_test_split(df_all, y_au, test_size = 0.2)\n",
        "    m = RandomForestRegressor(n_estimators=100, max_features=55, min_samples_leaf=12, max_depth = 4,\n",
        "                          min_samples_split = 12, n_jobs=-1, oob_score=True)\n",
        "    m.fit(x_train, y_train)\n",
        "    preds = m.predict(x_test)\n",
        "    l_rmspe.append(rmspe(preds, y_test))\n",
        "    l_mse.append(mean_squared_error(preds, y_test))\n",
        "    l_rmse.append(math.sqrt(mean_squared_error(preds, y_test)))\n",
        "    i+=1\n",
        "\n",
        "print(np.mean(l_rmspe), np.mean(l_mse), np.mean(l_rmse))"
      ],
      "execution_count": 0,
      "outputs": [
        {
          "output_type": "stream",
          "text": [
            "1.6889277970582033 0.014874659152542732 0.12162151411267237\n"
          ],
          "name": "stdout"
        }
      ]
    },
    {
      "metadata": {
        "colab_type": "code",
        "outputId": "3745dd6b-9258-4ca3-f99f-269c08be5370",
        "id": "loLVJ_l0RRb0",
        "colab": {
          "base_uri": "https://localhost:8080/",
          "height": 1092
        }
      },
      "cell_type": "code",
      "source": [
        "feature_importances = pd.DataFrame(m.feature_importances_,\n",
        "                                   index = x_train.columns,\n",
        "                                    columns=['importance']).sort_values('importance',ascending=False)\n",
        "print(feature_importances)"
      ],
      "execution_count": 0,
      "outputs": [
        {
          "output_type": "stream",
          "text": [
            "        importance\n",
            "Au        0.784937\n",
            "Te        0.053673\n",
            "geocod    0.033518\n",
            "length    0.026164\n",
            "K         0.023854\n",
            "S         0.012731\n",
            "Ca        0.007844\n",
            "Cu        0.007684\n",
            "Al        0.007440\n",
            "Sb        0.004763\n",
            "Sn_na     0.004700\n",
            "Pb        0.004591\n",
            "Zn        0.003839\n",
            "Cd        0.002457\n",
            "Mo        0.002226\n",
            "Mn        0.002205\n",
            "Mg        0.002161\n",
            "Ti        0.002083\n",
            "W_na      0.001779\n",
            "As        0.001746\n",
            "Y_na      0.001573\n",
            "Cr        0.001290\n",
            "Si        0.000985\n",
            "Fe        0.000786\n",
            "Be        0.000768\n",
            "Ba        0.000540\n",
            "Na        0.000485\n",
            "W         0.000398\n",
            "V         0.000382\n",
            "Bi        0.000347\n",
            "...            ...\n",
            "Co        0.000000\n",
            "Zn_na     0.000000\n",
            "Na_na     0.000000\n",
            "Li_na     0.000000\n",
            "Mn_na     0.000000\n",
            "Mg_na     0.000000\n",
            "Sn        0.000000\n",
            "Th        0.000000\n",
            "Sc        0.000000\n",
            "Tl        0.000000\n",
            "U         0.000000\n",
            "Se        0.000000\n",
            "Re        0.000000\n",
            "Y         0.000000\n",
            "Pd        0.000000\n",
            "Al_na     0.000000\n",
            "As_na     0.000000\n",
            "Au_na     0.000000\n",
            "Nb        0.000000\n",
            "Ba_na     0.000000\n",
            "Bi_na     0.000000\n",
            "Ca_na     0.000000\n",
            "Cd_na     0.000000\n",
            "Co_na     0.000000\n",
            "Cu_na     0.000000\n",
            "Fe_na     0.000000\n",
            "Hg_na     0.000000\n",
            "K_na      0.000000\n",
            "Ta        0.000000\n",
            "Zr_na     0.000000\n",
            "\n",
            "[92 rows x 1 columns]\n"
          ],
          "name": "stdout"
        }
      ]
    },
    {
      "metadata": {
        "colab_type": "text",
        "id": "jQnaC3_KRRb5"
      },
      "cell_type": "markdown",
      "source": [
        "## Predicting agrec"
      ]
    },
    {
      "metadata": {
        "colab_type": "text",
        "id": "H85w_JL-RRb6"
      },
      "cell_type": "markdown",
      "source": [
        "### Random Forest"
      ]
    },
    {
      "metadata": {
        "colab_type": "code",
        "id": "dWbfFnENRRb6",
        "colab": {}
      },
      "cell_type": "code",
      "source": [
        "# initial rf model\n",
        "m = RandomForestRegressor(n_estimators=100, max_features=0.99, min_samples_leaf=2,\n",
        "                          n_jobs=-1, oob_score=True)"
      ],
      "execution_count": 0,
      "outputs": []
    },
    {
      "metadata": {
        "colab_type": "code",
        "id": "gv6X880mRRb7",
        "colab": {}
      },
      "cell_type": "code",
      "source": [
        "# defining search space\n",
        "space = [Integer(10,2000, name='n_estimators'),\n",
        "         Integer(1, n_features, name='max_features'),\n",
        "         Integer(1, 5, name='max_depth'),\n",
        "         Integer(2, 100, name='min_samples_split'),\n",
        "         Integer(1, 100, name='min_samples_leaf')]\n"
      ],
      "execution_count": 0,
      "outputs": []
    },
    {
      "metadata": {
        "colab_type": "code",
        "id": "rIXRLmRvRRb9",
        "colab": {}
      },
      "cell_type": "code",
      "source": [
        "# estimator parameters\n",
        "# @use_named_args(space)\n",
        "# def objective(**params):\n",
        "#     m.set_params(**params)\n",
        "\n",
        "#     return -np.mean(cross_val_score(m, df_all, y_ag, cv=5, n_jobs=-1,\n",
        "#                                     scoring=\"neg_mean_squared_error\"))"
      ],
      "execution_count": 0,
      "outputs": []
    },
    {
      "metadata": {
        "colab_type": "code",
        "id": "anOJWTu_RRb_",
        "colab": {}
      },
      "cell_type": "code",
      "source": [
        "# trying a different objective function\n",
        "@use_named_args(space)\n",
        "def objective(**params):\n",
        "    m.set_params(**params)\n",
        "    i = 0\n",
        "    l_rmse=[]\n",
        "    while i<10:\n",
        "        x_train, x_test, y_train, y_test = train_test_split(df_all, y_nac, test_size = 0.2)\n",
        "        m.fit(x_train, y_train)\n",
        "        preds = m.predict(x_test)\n",
        "        l_rmse.append(math.sqrt(mean_squared_error(preds, y_test)))\n",
        "        i+=1\n",
        "\n",
        "    return np.mean(l_rmse)"
      ],
      "execution_count": 0,
      "outputs": []
    },
    {
      "metadata": {
        "colab_type": "code",
        "id": "IyeQDjEiRRcC",
        "colab": {}
      },
      "cell_type": "code",
      "source": [
        "from skopt import gp_minimize, forest_minimize, gbrt_minimize\n",
        "#res_gp = gp_minimize(objective, space, n_calls=50, random_state=0)\n",
        "#instead of gp_minimize can also use forest_minimize or gbrt_minimize\n",
        "\n",
        "%time res_gp = gp_minimize(objective, space, n_calls=50, random_state=0)\n",
        "\n",
        "\n",
        "\"Best score=%.4f\" % res_gp.fun"
      ],
      "execution_count": 0,
      "outputs": []
    },
    {
      "metadata": {
        "colab_type": "code",
        "outputId": "14d095d4-f582-42f0-95b8-5691c0a2f48e",
        "id": "jr5SM-aiRRcD",
        "colab": {
          "base_uri": "https://localhost:8080/",
          "height": 118
        }
      },
      "cell_type": "code",
      "source": [
        "# print(\"\"\"Best parameters:\n",
        "# - n_estimators=%d\n",
        "# - max_features=%d\n",
        "# - max_depth=%d\n",
        "# - min_samples_split=%d\n",
        "# - min_samples_leaf=%d\n",
        "# - criterion = %s\"\"\" % (res_gp.x[0], res_gp.x[1], \n",
        "#                             res_gp.x[2], res_gp.x[3], \n",
        "#                             res_gp.x[4], res_gp.x[5]))\n",
        "\n",
        "print(\"\"\"Best parameters:\n",
        "- n_estimators=%d\n",
        "- max_features=%d\n",
        "- max_depth=%d\n",
        "- min_samples_split=%d\n",
        "- min_samples_leaf=%d\"\"\" % (res_gp.x[0], res_gp.x[1], \n",
        "                            res_gp.x[2], res_gp.x[3], \n",
        "                            res_gp.x[4]))"
      ],
      "execution_count": 0,
      "outputs": [
        {
          "output_type": "stream",
          "text": [
            "Best parameters:\n",
            "- n_estimators=1912\n",
            "- max_features=64\n",
            "- max_depth=4\n",
            "- min_samples_split=50\n",
            "- min_samples_leaf=1\n"
          ],
          "name": "stdout"
        }
      ]
    },
    {
      "metadata": {
        "colab_type": "code",
        "outputId": "78b5c5b6-d479-4061-d160-54e0ba8516ba",
        "id": "4eVgMTxjRRcF",
        "colab": {
          "base_uri": "https://localhost:8080/",
          "height": 34
        }
      },
      "cell_type": "code",
      "source": [
        "i = 0\n",
        "l_rmspe = []\n",
        "l_mse = []\n",
        "l_rmse=[]\n",
        "\n",
        "while i <10:\n",
        "    x_train, x_test, y_train, y_test = train_test_split(df_all, y_ag, test_size = 0.2)\n",
        "    m = RandomForestRegressor(n_estimators=1912, max_features=64, max_depth = 4,\n",
        "                              min_samples_split = 50, min_samples_leaf=1,\n",
        "                              n_jobs=-1, oob_score=True)\n",
        "    m.fit(x_train, y_train)\n",
        "    preds = m.predict(x_test)\n",
        "    l_rmspe.append(rmspe(preds, y_test))\n",
        "    l_mse.append(mean_squared_error(preds, y_test))\n",
        "    l_rmse.append(math.sqrt(mean_squared_error(preds, y_test)))\n",
        "    i+=1\n",
        "\n",
        "print(np.mean(l_rmspe), np.mean(l_mse), np.mean(l_rmse))\n",
        "    \n",
        "    \n",
        "\n"
      ],
      "execution_count": 0,
      "outputs": [
        {
          "output_type": "stream",
          "text": [
            "3.105403504707078 0.033687138806411235 0.18324919025835168\n"
          ],
          "name": "stdout"
        }
      ]
    },
    {
      "metadata": {
        "colab_type": "code",
        "outputId": "45a4207f-02b0-4b30-ad83-932c054896f4",
        "id": "2gMY8jk9RRcH",
        "colab": {
          "base_uri": "https://localhost:8080/",
          "height": 1092
        }
      },
      "cell_type": "code",
      "source": [
        "feature_importances = pd.DataFrame(m.feature_importances_,\n",
        "                                   index = x_train.columns,\n",
        "                                    columns=['importance']).sort_values('importance',ascending=False)\n",
        "print(feature_importances)"
      ],
      "execution_count": 0,
      "outputs": [
        {
          "output_type": "stream",
          "text": [
            "        importance\n",
            "Au        0.354407\n",
            "geocod    0.235063\n",
            "Cu        0.173689\n",
            "S         0.103017\n",
            "length    0.027220\n",
            "Pb        0.016075\n",
            "Mn        0.012580\n",
            "As        0.011942\n",
            "Sb        0.010756\n",
            "Ca        0.010236\n",
            "Fe        0.009026\n",
            "Cd        0.008643\n",
            "Mg        0.003535\n",
            "Be        0.003469\n",
            "Zn        0.003293\n",
            "Au_na     0.002111\n",
            "Al        0.002001\n",
            "K         0.001949\n",
            "Bi        0.001334\n",
            "Te        0.001170\n",
            "Na        0.001069\n",
            "V         0.001032\n",
            "Mo        0.000997\n",
            "Ti        0.000950\n",
            "Ni        0.000872\n",
            "P         0.000744\n",
            "Sr        0.000313\n",
            "Cr        0.000262\n",
            "Tl        0.000254\n",
            "Ba        0.000244\n",
            "...            ...\n",
            "Y_na      0.000000\n",
            "Sb_na     0.000000\n",
            "Pd_na     0.000000\n",
            "Sc_na     0.000000\n",
            "Sr_na     0.000000\n",
            "Ta_na     0.000000\n",
            "Th_na     0.000000\n",
            "Tl_na     0.000000\n",
            "Ti_na     0.000000\n",
            "U_na      0.000000\n",
            "Ta        0.000000\n",
            "P_na      0.000000\n",
            "Cu_na     0.000000\n",
            "Sn        0.000000\n",
            "Sc        0.000000\n",
            "Y         0.000000\n",
            "Al_na     0.000000\n",
            "As_na     0.000000\n",
            "Be_na     0.000000\n",
            "Co_na     0.000000\n",
            "Hg_na     0.000000\n",
            "Nb_na     0.000000\n",
            "K_na      0.000000\n",
            "La_na     0.000000\n",
            "Li_na     0.000000\n",
            "Th        0.000000\n",
            "Mn_na     0.000000\n",
            "Mo_na     0.000000\n",
            "Na_na     0.000000\n",
            "Zr_na     0.000000\n",
            "\n",
            "[92 rows x 1 columns]\n"
          ],
          "name": "stdout"
        }
      ]
    },
    {
      "metadata": {
        "colab_type": "text",
        "id": "7XQHHxXbRRcM"
      },
      "cell_type": "markdown",
      "source": [
        "## Predicting nacnc"
      ]
    },
    {
      "metadata": {
        "colab_type": "text",
        "id": "wgLKVvsjRRcM"
      },
      "cell_type": "markdown",
      "source": [
        "### All info"
      ]
    },
    {
      "metadata": {
        "colab_type": "code",
        "id": "V8OPMwPGRRcM",
        "colab": {}
      },
      "cell_type": "code",
      "source": [
        "m = RandomForestRegressor(n_estimators=100, max_features=0.99, min_samples_leaf=2,\n",
        "                          n_jobs=-1, oob_score=True)"
      ],
      "execution_count": 0,
      "outputs": []
    },
    {
      "metadata": {
        "colab_type": "code",
        "id": "51bu6owhRRcN",
        "colab": {}
      },
      "cell_type": "code",
      "source": [
        "# defining search space\n",
        "space = [Integer(100,2000, name='n_estimators'),\n",
        "         Integer(1, n_features, name='max_features'),\n",
        "         Integer(1, 5, name='max_depth'),\n",
        "         Integer(2, 100, name='min_samples_split'),\n",
        "         Integer(1, 100, name='min_samples_leaf')]\n"
      ],
      "execution_count": 0,
      "outputs": []
    },
    {
      "metadata": {
        "colab_type": "code",
        "id": "vQfKH6wDRRcO",
        "colab": {}
      },
      "cell_type": "code",
      "source": [
        "# estimator parameters\n",
        "# @use_named_args(space)\n",
        "# def objective(**params):\n",
        "#     m.set_params(**params)\n",
        "\n",
        "#     return -np.mean(cross_val_score(m, df_all, y_nac, cv=5, n_jobs=-1,\n",
        "#                                     scoring=\"neg_mean_squared_error\"))"
      ],
      "execution_count": 0,
      "outputs": []
    },
    {
      "metadata": {
        "colab_type": "code",
        "id": "w_XpoOywRRcP",
        "colab": {}
      },
      "cell_type": "code",
      "source": [
        "# trying a different objective function\n",
        "@use_named_args(space)\n",
        "def objective(**params):\n",
        "    m.set_params(**params)\n",
        "    i = 0\n",
        "    l_rmse=[]\n",
        "    while i<10:\n",
        "        x_train, x_test, y_train, y_test = train_test_split(df_all, y_nac, test_size = 0.2)\n",
        "        m.fit(x_train, y_train)\n",
        "        preds = m.predict(x_test)\n",
        "        l_rmse.append(math.sqrt(mean_squared_error(preds, y_test)))\n",
        "        i+=1\n",
        "\n",
        "    return np.mean(l_rmse)"
      ],
      "execution_count": 0,
      "outputs": []
    },
    {
      "metadata": {
        "colab_type": "code",
        "id": "G6sK1nH2RRcQ",
        "outputId": "dfa63f7e-d082-419f-a5b5-84075cd6b7c1",
        "colab": {
          "base_uri": "https://localhost:8080/",
          "height": 121
        }
      },
      "cell_type": "code",
      "source": [
        "from skopt import gp_minimize, forest_minimize, gbrt_minimize\n",
        "#res_gp = gp_minimize(objective, space, n_calls=50, random_state=0)\n",
        "#instead of gp_minimize can also use forest_minimize or gbrt_minimize\n",
        "\n",
        "%time res_gp = gp_minimize(objective, space, n_calls=50, random_state=0)\n",
        "\n",
        "\n",
        "\"Best score=%.4f\" % res_gp.fun"
      ],
      "execution_count": 0,
      "outputs": [
        {
          "output_type": "stream",
          "text": [
            "/usr/local/lib/python3.6/dist-packages/skopt/optimizer/optimizer.py:399: UserWarning: The objective has been evaluated at this point before.\n",
            "  warnings.warn(\"The objective has been evaluated \"\n"
          ],
          "name": "stderr"
        },
        {
          "output_type": "stream",
          "text": [
            "CPU times: user 24min 31s, sys: 1min 57s, total: 26min 28s\n",
            "Wall time: 18min 14s\n"
          ],
          "name": "stdout"
        },
        {
          "output_type": "execute_result",
          "data": {
            "text/plain": [
              "'Best score=1.7057'"
            ]
          },
          "metadata": {
            "tags": []
          },
          "execution_count": 90
        }
      ]
    },
    {
      "metadata": {
        "colab_type": "code",
        "outputId": "c12e7ebe-3f4e-4a86-ee7c-34fd3bb23db0",
        "id": "KSco_IDdRRcS",
        "colab": {
          "base_uri": "https://localhost:8080/",
          "height": 118
        }
      },
      "cell_type": "code",
      "source": [
        "# print(\"\"\"Best parameters:\n",
        "# - n_estimators=%d\n",
        "# - max_features=%d\n",
        "# - max_depth=%d\n",
        "# - min_samples_split=%d\n",
        "# - min_samples_leaf=%d\n",
        "# - criterion = %s\"\"\" % (res_gp.x[0], res_gp.x[1], \n",
        "#                             res_gp.x[2], res_gp.x[3], \n",
        "#                             res_gp.x[4], res_gp.x[5]))\n",
        "\n",
        "print(\"\"\"Best parameters:\n",
        "- n_estimators=%d\n",
        "- max_features=%d\n",
        "- max_depth=%d\n",
        "- min_samples_split=%d\n",
        "- min_samples_leaf=%d\"\"\" % (res_gp.x[0], res_gp.x[1], \n",
        "                            res_gp.x[2], res_gp.x[3], \n",
        "                            res_gp.x[4]))"
      ],
      "execution_count": 0,
      "outputs": [
        {
          "output_type": "stream",
          "text": [
            "Best parameters:\n",
            "- n_estimators=100\n",
            "- max_features=80\n",
            "- max_depth=5\n",
            "- min_samples_split=100\n",
            "- min_samples_leaf=1\n"
          ],
          "name": "stdout"
        }
      ]
    },
    {
      "metadata": {
        "colab_type": "code",
        "outputId": "01e3a883-9bb2-4177-c45d-df26feca6e08",
        "id": "_TvwZbY_RRcT",
        "colab": {
          "base_uri": "https://localhost:8080/",
          "height": 34
        }
      },
      "cell_type": "code",
      "source": [
        "i = 0\n",
        "l_rmspe = []\n",
        "l_mse = []\n",
        "l_rmse=[]\n",
        "\n",
        "while i <10:\n",
        "    x_train, x_test, y_train, y_test = train_test_split(df_all, y_nac, test_size = 0.2)\n",
        "    m = RandomForestRegressor(n_estimators=res_gp.x[0], max_features=res_gp.x[1], max_depth = res_gp.x[2],\n",
        "                              min_samples_split = res_gp.x[3], min_samples_leaf=res_gp.x[4],\n",
        "                              n_jobs=-1, oob_score=True)\n",
        "    m.fit(x_train, y_train)\n",
        "    preds = m.predict(x_test)\n",
        "    l_rmspe.append(rmspe(preds, y_test))\n",
        "    l_mse.append(mean_squared_error(preds, y_test))\n",
        "    l_rmse.append(math.sqrt(mean_squared_error(preds, y_test)))\n",
        "    i+=1\n",
        "\n",
        "print(np.mean(l_rmspe), np.mean(l_mse), np.mean(l_rmse))"
      ],
      "execution_count": 0,
      "outputs": [
        {
          "output_type": "stream",
          "text": [
            "4.193819814370854 3.0147192559639464 1.735347359047783\n"
          ],
          "name": "stdout"
        }
      ]
    },
    {
      "metadata": {
        "colab_type": "code",
        "outputId": "fcdd139c-f8db-473a-f1c7-ad662bfc48de",
        "id": "ZXGRzmIMRRca",
        "colab": {
          "base_uri": "https://localhost:8080/",
          "height": 1092
        }
      },
      "cell_type": "code",
      "source": [
        "feature_importances = pd.DataFrame(m.feature_importances_,\n",
        "                                   index = x_train.columns,\n",
        "                                    columns=['importance']).sort_values('importance',ascending=False)\n",
        "print(feature_importances)"
      ],
      "execution_count": 0,
      "outputs": [
        {
          "output_type": "stream",
          "text": [
            "        importance\n",
            "Au        0.453617\n",
            "geocod    0.259130\n",
            "Si        0.135115\n",
            "Cr        0.033454\n",
            "length    0.024456\n",
            "Sb        0.018099\n",
            "Bi        0.016013\n",
            "Ni        0.010562\n",
            "Na        0.010373\n",
            "Ti        0.005559\n",
            "Zn        0.004564\n",
            "Cd        0.004381\n",
            "Hg        0.003733\n",
            "Fe        0.003363\n",
            "Mo        0.001813\n",
            "V         0.001689\n",
            "Sr        0.001386\n",
            "As        0.001359\n",
            "U_na      0.001185\n",
            "Sr_na     0.000934\n",
            "Mn        0.000883\n",
            "Pd        0.000792\n",
            "K         0.000758\n",
            "Cd_na     0.000720\n",
            "S         0.000621\n",
            "Na_na     0.000614\n",
            "Ti_na     0.000613\n",
            "S_na      0.000600\n",
            "Be        0.000579\n",
            "Hg_na     0.000542\n",
            "...            ...\n",
            "Fe_na     0.000000\n",
            "Cu_na     0.000000\n",
            "Al        0.000000\n",
            "B         0.000000\n",
            "Ba        0.000000\n",
            "Ca        0.000000\n",
            "Co        0.000000\n",
            "Cu        0.000000\n",
            "La        0.000000\n",
            "Li        0.000000\n",
            "Mg        0.000000\n",
            "Nb        0.000000\n",
            "Re        0.000000\n",
            "Sc        0.000000\n",
            "Sn        0.000000\n",
            "Ta        0.000000\n",
            "Te        0.000000\n",
            "Th        0.000000\n",
            "U         0.000000\n",
            "W         0.000000\n",
            "Y         0.000000\n",
            "As_na     0.000000\n",
            "Au_na     0.000000\n",
            "Ba_na     0.000000\n",
            "Be_na     0.000000\n",
            "Bi_na     0.000000\n",
            "Ca_na     0.000000\n",
            "Co_na     0.000000\n",
            "Cr_na     0.000000\n",
            "Zr_na     0.000000\n",
            "\n",
            "[92 rows x 1 columns]\n"
          ],
          "name": "stdout"
        }
      ]
    },
    {
      "metadata": {
        "colab_type": "text",
        "id": "STQ3bWaIRRcb"
      },
      "cell_type": "markdown",
      "source": [
        "## Observations\n",
        "\n"
      ]
    },
    {
      "metadata": {
        "colab_type": "code",
        "id": "FbbJ4zQWRRcd",
        "colab": {}
      },
      "cell_type": "code",
      "source": [
        ""
      ],
      "execution_count": 0,
      "outputs": []
    },
    {
      "metadata": {
        "colab_type": "text",
        "id": "4-9A4zJFS3e3"
      },
      "cell_type": "markdown",
      "source": [
        "# Test 3\n",
        "\n",
        "Removing all location features from the data"
      ]
    },
    {
      "metadata": {
        "colab_type": "code",
        "id": "Z2c94GkUS3e3",
        "colab": {}
      },
      "cell_type": "code",
      "source": [
        "df_all = df[['Al', 'As', 'Au', 'B', 'Ba', 'Be', 'Bi', 'Ca',\n",
        "             'Cd', 'Co', 'Cr', 'Cu', 'Fe', 'Hg', 'K', 'La', 'Li', 'Mg',\n",
        "             'Mn', 'Mo', 'Na',\n",
        "             'Nb', 'Ni', 'P', 'Pb', 'Pd', 'Re', 'S', 'Sb', 'Se',\n",
        "             'Si', 'Sc', 'Sn', 'Sr',\n",
        "             'Ta', 'Te', 'Th', 'Ti', 'Tl', 'U', 'V', 'W', 'Y', 'Zn', 'Zr', \n",
        "             'Al_na', 'As_na', 'Au_na', 'B_na', 'Ba_na', 'Be_na', 'Bi_na', 'Ca_na',\n",
        "             'Cd_na', 'Co_na', 'Cr_na', 'Cu_na', 'Fe_na', 'Hg_na', 'K_na', 'La_na', 'Li_na', 'Mg_na',\n",
        "             'Mn_na', 'Mo_na', 'Na_na',\n",
        "             'Nb_na', 'Ni_na', 'P_na', 'Pb_na', 'Pd_na', 'Re_na', 'S_na', 'Sb_na', 'Se_na',\n",
        "             'Si_na', 'Sc_na', 'Sn_na', 'Sr_na',\n",
        "             'Ta_na', 'Te_na', 'Th_na', 'Ti_na', 'Tl_na', 'U_na', 'V_na', 'W_na', 'Y_na', 'Zn_na', 'Zr_na']]\n",
        "\n",
        "y_au = df['aurec']\n",
        "y_ag = df['agrec']\n",
        "y_nac = df['nacnc']\n",
        "y_codt = df['codt']"
      ],
      "execution_count": 0,
      "outputs": []
    },
    {
      "metadata": {
        "colab_type": "code",
        "id": "6pmr-YJkS3e4",
        "colab": {}
      },
      "cell_type": "code",
      "source": [
        "# defining function to evaluate exp_rmse\n",
        "def inv_y(a): return np.exp(a)\n",
        "\n",
        "def exp_rmspe(y_pred, targ):\n",
        "    targ = inv_y(targ)\n",
        "    pct_var = (targ - inv_y(y_pred))/targ\n",
        "    return math.sqrt((pct_var**2).mean())\n",
        "\n",
        "def rmspe(y_pred, targ):\n",
        "    pct_var = (targ - y_pred)/targ\n",
        "    return math.sqrt((pct_var**2).mean())"
      ],
      "execution_count": 0,
      "outputs": []
    },
    {
      "metadata": {
        "colab_type": "code",
        "id": "yrlZT09qS3e8",
        "colab": {}
      },
      "cell_type": "code",
      "source": [
        "from sklearn.ensemble import RandomForestRegressor, RandomForestClassifier\n",
        "from sklearn.model_selection import train_test_split\n",
        "from sklearn.metrics import mean_squared_error\n",
        "from sklearn.feature_selection import f_regression\n",
        "from sklearn.linear_model import LogisticRegression, LinearRegression\n"
      ],
      "execution_count": 0,
      "outputs": []
    },
    {
      "metadata": {
        "colab_type": "code",
        "id": "jLOvzqSHS3e-",
        "colab": {}
      },
      "cell_type": "code",
      "source": [
        "n_features = df_all.shape[1]\n",
        "from sklearn.model_selection import cross_val_score\n",
        "from skopt.space import Real, Integer, Categorical \n",
        "from skopt.utils import use_named_args\n",
        "from skopt import gp_minimize, forest_minimize, gbrt_minimize\n"
      ],
      "execution_count": 0,
      "outputs": []
    },
    {
      "metadata": {
        "colab_type": "code",
        "id": "4mJyCzD6S3fA",
        "colab": {}
      },
      "cell_type": "code",
      "source": [
        "# list of valid scoring methods for objective function\n",
        "from sklearn.metrics import SCORERS\n",
        "\n",
        "sorted(SCORERS.keys()) "
      ],
      "execution_count": 0,
      "outputs": []
    },
    {
      "metadata": {
        "colab_type": "text",
        "id": "CoXqq35xS3fC"
      },
      "cell_type": "markdown",
      "source": [
        "## Predicting codt class"
      ]
    },
    {
      "metadata": {
        "colab_type": "text",
        "id": "DKCy5I5zS3fD"
      },
      "cell_type": "markdown",
      "source": [
        "### Random Forest"
      ]
    },
    {
      "metadata": {
        "colab_type": "text",
        "id": "obVx9HXBS3fD"
      },
      "cell_type": "markdown",
      "source": [
        "using bayesian optimization to tune random forest"
      ]
    },
    {
      "metadata": {
        "colab_type": "code",
        "id": "VNReJO9jS3fE",
        "colab": {}
      },
      "cell_type": "code",
      "source": [
        "# Defining initial rf model\n",
        "m = RandomForestClassifier(n_estimators=100, max_features=0.99, min_samples_leaf=2,\n",
        "                          n_jobs=-1, oob_score=True)"
      ],
      "execution_count": 0,
      "outputs": []
    },
    {
      "metadata": {
        "colab_type": "code",
        "id": "Lj61ktOgS3fG",
        "colab": {}
      },
      "cell_type": "code",
      "source": [
        "# defining search space for RF\n",
        "space = [Integer(100,2000, name='n_estimators'),\n",
        "         Integer(1, n_features, name='max_features'),\n",
        "         Integer(1, 5, name='max_depth'),\n",
        "         Integer(2, 100, name='min_samples_split'),\n",
        "         Integer(1, 100, name='min_samples_leaf'),\n",
        "         Categorical(['gini', 'entropy'], name = 'criterion')]"
      ],
      "execution_count": 0,
      "outputs": []
    },
    {
      "metadata": {
        "colab_type": "code",
        "id": "VdKbWWZ3S3fI",
        "colab": {}
      },
      "cell_type": "code",
      "source": [
        "# estimator parameters\n",
        "@use_named_args(space)\n",
        "def objective(**params):\n",
        "    m.set_params(**params)\n",
        "\n",
        "    return -np.mean(cross_val_score(m, df_all, y_codt, cv=5, n_jobs=-1,\n",
        "                                    scoring=\"accuracy\"))"
      ],
      "execution_count": 0,
      "outputs": []
    },
    {
      "metadata": {
        "colab_type": "code",
        "outputId": "b08a190b-2f2a-44a7-b588-d24823bb24fc",
        "id": "8FSJeA4KS3fJ",
        "colab": {
          "base_uri": "https://localhost:8080/",
          "height": 67
        }
      },
      "cell_type": "code",
      "source": [
        "#instead of gp_minimize can also use forest_minimize or gbrt_minimize\n",
        "\n",
        "%time res_gp = gp_minimize(objective, space, n_calls=50, random_state=0)\n",
        "\n",
        "\n",
        "\n",
        "\n",
        "\"Best score=%.4f\" % res_gp.fun"
      ],
      "execution_count": 0,
      "outputs": [
        {
          "output_type": "stream",
          "text": [
            "CPU times: user 43.5 s, sys: 28 s, total: 1min 11s\n",
            "Wall time: 8min 25s\n"
          ],
          "name": "stdout"
        },
        {
          "output_type": "execute_result",
          "data": {
            "text/plain": [
              "'Best score=-0.5722'"
            ]
          },
          "metadata": {
            "tags": []
          },
          "execution_count": 101
        }
      ]
    },
    {
      "metadata": {
        "colab_type": "code",
        "outputId": "2c1f802c-0fba-4646-cbe0-3b44cd140395",
        "id": "-XlZ7O2IS3fN",
        "colab": {
          "base_uri": "https://localhost:8080/",
          "height": 134
        }
      },
      "cell_type": "code",
      "source": [
        "print(\"\"\"Best parameters:\n",
        "- n_estimators=%d\n",
        "- max_features=%d\n",
        "- max_depth=%d\n",
        "- min_samples_split=%d\n",
        "- min_samples_leaf=%d\n",
        "- criterion = %s\"\"\" % (res_gp.x[0], res_gp.x[1], \n",
        "                            res_gp.x[2], res_gp.x[3], \n",
        "                            res_gp.x[4], res_gp.x[5]))"
      ],
      "execution_count": 0,
      "outputs": [
        {
          "output_type": "stream",
          "text": [
            "Best parameters:\n",
            "- n_estimators=100\n",
            "- max_features=37\n",
            "- max_depth=3\n",
            "- min_samples_split=2\n",
            "- min_samples_leaf=22\n",
            "- criterion = gini\n"
          ],
          "name": "stdout"
        }
      ]
    },
    {
      "metadata": {
        "colab_type": "text",
        "id": "IHQYF12dS3fT"
      },
      "cell_type": "markdown",
      "source": [
        "Fitting model with the tuned hyperparameters"
      ]
    },
    {
      "metadata": {
        "colab_type": "code",
        "id": "Ue-2ZDO8S3fT",
        "colab": {}
      },
      "cell_type": "code",
      "source": [
        "x_train, x_test, y_train, y_test = train_test_split(df_all, y_codt, test_size = 0.2)"
      ],
      "execution_count": 0,
      "outputs": []
    },
    {
      "metadata": {
        "colab_type": "code",
        "outputId": "54df2b83-225c-4da5-95da-78e7c68c3787",
        "id": "0lJev9-2S3fY",
        "colab": {
          "base_uri": "https://localhost:8080/",
          "height": 118
        }
      },
      "cell_type": "code",
      "source": [
        "# m = RandomForestClassifier(n_estimators=100, max_features=0.99, min_samples_leaf=2,\n",
        "#                           n_jobs=-1, oob_score=True)\n",
        "\n",
        "m = RandomForestClassifier(n_estimators=res_gp.x[0], max_features=res_gp.x[1], max_depth = res_gp.x[2], \n",
        "                           min_samples_split = res_gp.x[3], min_samples_leaf = res_gp.x[4], n_jobs=-1, oob_score=True)\n",
        "\n",
        "m.fit(x_train, y_train)"
      ],
      "execution_count": 0,
      "outputs": [
        {
          "output_type": "execute_result",
          "data": {
            "text/plain": [
              "RandomForestClassifier(bootstrap=True, class_weight=None, criterion='gini',\n",
              "            max_depth=3, max_features=37, max_leaf_nodes=None,\n",
              "            min_impurity_decrease=0.0, min_impurity_split=None,\n",
              "            min_samples_leaf=22, min_samples_split=2,\n",
              "            min_weight_fraction_leaf=0.0, n_estimators=100, n_jobs=-1,\n",
              "            oob_score=True, random_state=None, verbose=0, warm_start=False)"
            ]
          },
          "metadata": {
            "tags": []
          },
          "execution_count": 120
        }
      ]
    },
    {
      "metadata": {
        "colab_type": "code",
        "outputId": "64736854-a643-41d2-8761-13845b92fb25",
        "id": "XKzMzURlS3fc",
        "colab": {
          "base_uri": "https://localhost:8080/",
          "height": 34
        }
      },
      "cell_type": "code",
      "source": [
        "m.score(x_test, y_test)"
      ],
      "execution_count": 0,
      "outputs": [
        {
          "output_type": "execute_result",
          "data": {
            "text/plain": [
              "0.5625"
            ]
          },
          "metadata": {
            "tags": []
          },
          "execution_count": 121
        }
      ]
    },
    {
      "metadata": {
        "colab_type": "code",
        "outputId": "d180df58-d050-479c-d10b-ded19647a0bf",
        "id": "0HYwna_QS3fe",
        "colab": {
          "base_uri": "https://localhost:8080/",
          "height": 84
        }
      },
      "cell_type": "code",
      "source": [
        "from sklearn.metrics import confusion_matrix\n",
        "\n",
        "confusion_matrix(m.predict(x_test), y_test)"
      ],
      "execution_count": 0,
      "outputs": [
        {
          "output_type": "execute_result",
          "data": {
            "text/plain": [
              "array([[74,  0, 27, 59],\n",
              "       [ 0,  0,  0,  0],\n",
              "       [ 0,  0,  0,  0],\n",
              "       [26,  1,  6, 79]])"
            ]
          },
          "metadata": {
            "tags": []
          },
          "execution_count": 122
        }
      ]
    },
    {
      "metadata": {
        "colab_type": "code",
        "outputId": "112da645-b559-4a72-b42e-a6d935619c55",
        "id": "ABHvvh8ES3fi",
        "colab": {
          "base_uri": "https://localhost:8080/",
          "height": 255
        }
      },
      "cell_type": "code",
      "source": [
        "from sklearn.metrics import classification_report\n",
        "\n",
        "print(classification_report(m.predict(x_test), y_test))"
      ],
      "execution_count": 0,
      "outputs": [
        {
          "output_type": "stream",
          "text": [
            "              precision    recall  f1-score   support\n",
            "\n",
            "           1       0.74      0.46      0.57       160\n",
            "           2       0.00      0.00      0.00         0\n",
            "           3       0.00      0.00      0.00         0\n",
            "           4       0.57      0.71      0.63       112\n",
            "\n",
            "   micro avg       0.56      0.56      0.56       272\n",
            "   macro avg       0.33      0.29      0.30       272\n",
            "weighted avg       0.67      0.56      0.60       272\n",
            "\n"
          ],
          "name": "stdout"
        },
        {
          "output_type": "stream",
          "text": [
            "/usr/local/lib/python3.6/dist-packages/sklearn/metrics/classification.py:1145: UndefinedMetricWarning: Recall and F-score are ill-defined and being set to 0.0 in labels with no true samples.\n",
            "  'recall', 'true', average, warn_for)\n"
          ],
          "name": "stderr"
        }
      ]
    },
    {
      "metadata": {
        "colab_type": "code",
        "id": "l4VsKHxWS3fk",
        "colab": {}
      },
      "cell_type": "code",
      "source": [
        "feature_importances = pd.DataFrame(m.feature_importances_,\n",
        "                                   index = x_train.columns,\n",
        "                                    columns=['importance']).sort_values('importance',ascending=False)\n",
        "print(feature_importances)"
      ],
      "execution_count": 0,
      "outputs": []
    },
    {
      "metadata": {
        "id": "eIMakR6-4XUe",
        "colab_type": "text"
      },
      "cell_type": "markdown",
      "source": [
        "### Feature Importance"
      ]
    },
    {
      "metadata": {
        "id": "_x_aJQZf4Z8h",
        "colab_type": "code",
        "colab": {}
      },
      "cell_type": "code",
      "source": [
        "m = RandomForestClassifier(bootstrap=True, class_weight=None, criterion='gini',\n",
        "            max_depth=3, max_features=37, max_leaf_nodes=None,\n",
        "            min_impurity_decrease=0.0, min_impurity_split=None,\n",
        "            min_samples_leaf=22, min_samples_split=2,\n",
        "            min_weight_fraction_leaf=0.0, n_estimators=100, n_jobs=-1,\n",
        "            oob_score=True, random_state=None, verbose=0, warm_start=False)"
      ],
      "execution_count": 0,
      "outputs": []
    },
    {
      "metadata": {
        "id": "dJTs8il-4fbq",
        "colab_type": "code",
        "outputId": "d491b954-8496-4de8-ef2b-cd7702aa1fdb",
        "colab": {
          "base_uri": "https://localhost:8080/",
          "height": 118
        }
      },
      "cell_type": "code",
      "source": [
        "m.fit(x_train, y_train)"
      ],
      "execution_count": 0,
      "outputs": [
        {
          "output_type": "execute_result",
          "data": {
            "text/plain": [
              "RandomForestClassifier(bootstrap=True, class_weight=None, criterion='gini',\n",
              "            max_depth=3, max_features=37, max_leaf_nodes=None,\n",
              "            min_impurity_decrease=0.0, min_impurity_split=None,\n",
              "            min_samples_leaf=22, min_samples_split=2,\n",
              "            min_weight_fraction_leaf=0.0, n_estimators=100, n_jobs=-1,\n",
              "            oob_score=True, random_state=None, verbose=0, warm_start=False)"
            ]
          },
          "metadata": {
            "tags": []
          },
          "execution_count": 30
        }
      ]
    },
    {
      "metadata": {
        "id": "7sFVws4l4sg9",
        "colab_type": "code",
        "colab": {}
      },
      "cell_type": "code",
      "source": [
        "explainer = shap.TreeExplainer(m)\n",
        "shap_values = explainer.shap_values(x_train)"
      ],
      "execution_count": 0,
      "outputs": []
    },
    {
      "metadata": {
        "id": "VZXPO-CN4xcL",
        "colab_type": "code",
        "outputId": "9d587b5f-b15a-43a0-f6fb-4379414c5372",
        "colab": {
          "base_uri": "https://localhost:8080/",
          "height": 580
        }
      },
      "cell_type": "code",
      "source": [
        "shap.summary_plot(shap_values, x_train, plot_type=\"bar\")\n"
      ],
      "execution_count": 0,
      "outputs": [
        {
          "output_type": "display_data",
          "data": {
            "image/png": "[encoded data removed]",
            "text/plain": [
              "<matplotlib.figure.Figure at 0x7fb481f4ff28>"
            ]
          },
          "metadata": {
            "tags": []
          }
        }
      ]
    },
    {
      "metadata": {
        "id": "ysTzaOmY47Do",
        "colab_type": "code",
        "outputId": "28ce7797-80aa-43cd-c7cd-807e5adaa631",
        "colab": {
          "base_uri": "https://localhost:8080/",
          "height": 162
        }
      },
      "cell_type": "code",
      "source": [
        "# create a SHAP dependence plot to show the effect of a single feature across the whole dataset\n",
        "shap.dependence_plot(\"Au\", shap_values, X)\n"
      ],
      "execution_count": 0,
      "outputs": [
        {
          "output_type": "error",
          "ename": "NameError",
          "evalue": "ignored",
          "traceback": [
            "\u001b[0;31m---------------------------------------------------------------------------\u001b[0m",
            "\u001b[0;31mNameError\u001b[0m                                 Traceback (most recent call last)",
            "\u001b[0;32m<ipython-input-36-ccb1c219e108>\u001b[0m in \u001b[0;36m<module>\u001b[0;34m()\u001b[0m\n\u001b[0;32m----> 1\u001b[0;31m \u001b[0mshap\u001b[0m\u001b[0;34m.\u001b[0m\u001b[0mdependence_plot\u001b[0m\u001b[0;34m(\u001b[0m\u001b[0;34m\"Au\"\u001b[0m\u001b[0;34m,\u001b[0m \u001b[0mshap_values\u001b[0m\u001b[0;34m,\u001b[0m \u001b[0mX\u001b[0m\u001b[0;34m)\u001b[0m\u001b[0;34m\u001b[0m\u001b[0;34m\u001b[0m\u001b[0m\n\u001b[0m",
            "\u001b[0;31mNameError\u001b[0m: name 'X' is not defined"
          ]
        }
      ]
    },
    {
      "metadata": {
        "colab_type": "text",
        "id": "cGFPnXKsS3fl"
      },
      "cell_type": "markdown",
      "source": [
        "## Predicting aurec"
      ]
    },
    {
      "metadata": {
        "colab_type": "text",
        "id": "z4nk80Z_S3fm"
      },
      "cell_type": "markdown",
      "source": [
        ""
      ]
    },
    {
      "metadata": {
        "colab_type": "text",
        "id": "Fc-3QOM_S3fm"
      },
      "cell_type": "markdown",
      "source": [
        "### All info"
      ]
    },
    {
      "metadata": {
        "colab_type": "code",
        "id": "yU9QtYEzS3fm",
        "colab": {}
      },
      "cell_type": "code",
      "source": [
        "# initial rf model\n",
        "m = RandomForestRegressor(n_estimators=100, max_features=0.99, min_samples_leaf=2,\n",
        "                          n_jobs=-1, oob_score=True)"
      ],
      "execution_count": 0,
      "outputs": []
    },
    {
      "metadata": {
        "colab_type": "code",
        "id": "XsXGR_xXS3fp",
        "colab": {}
      },
      "cell_type": "code",
      "source": [
        "# defining search space\n",
        "space = [Integer(100,2000, name='n_estimators'),\n",
        "         Integer(1, n_features, name='max_features'),\n",
        "         Integer(1, 5, name='max_depth'),\n",
        "         Integer(2, 100, name='min_samples_split'),\n",
        "         Integer(1, 100, name='min_samples_leaf')]\n"
      ],
      "execution_count": 0,
      "outputs": []
    },
    {
      "metadata": {
        "colab_type": "code",
        "id": "6a96to6rS3fr",
        "colab": {}
      },
      "cell_type": "code",
      "source": [
        "# # estimator parameters\n",
        "# @use_named_args(space)\n",
        "# def objective(**params):\n",
        "#     m.set_params(**params)\n",
        "\n",
        "#     return -np.mean(cross_val_score(m, df_all, y_au, cv=5, n_jobs=-1,\n",
        "#                                     scoring=\"neg_mean_squared_error\"))"
      ],
      "execution_count": 0,
      "outputs": []
    },
    {
      "metadata": {
        "colab_type": "code",
        "id": "jp58B1C_S3fs",
        "colab": {}
      },
      "cell_type": "code",
      "source": [
        "# trying a different objective function\n",
        "@use_named_args(space)\n",
        "def objective(**params):\n",
        "    m.set_params(**params)\n",
        "    i = 0\n",
        "    l_rmse=[]\n",
        "    while i<10:\n",
        "        x_train, x_test, y_train, y_test = train_test_split(df_all, y_nac, test_size = 0.2)\n",
        "        m.fit(x_train, y_train)\n",
        "        preds = m.predict(x_test)\n",
        "        l_rmse.append(math.sqrt(mean_squared_error(preds, y_test)))\n",
        "        i+=1\n",
        "\n",
        "    return np.mean(l_rmse)"
      ],
      "execution_count": 0,
      "outputs": []
    },
    {
      "metadata": {
        "colab_type": "code",
        "id": "Y77h-MMbS3ft",
        "colab": {}
      },
      "cell_type": "code",
      "source": [
        "from skopt import gp_minimize, forest_minimize, gbrt_minimize\n",
        "#res_gp = gp_minimize(objective, space, n_calls=50, random_state=0)\n",
        "#instead of gp_minimize can also use forest_minimize or gbrt_minimize\n",
        "\n",
        "%time res_gp = gp_minimize(objective, space, n_calls=50, random_state=0)\n",
        "\n",
        "\n",
        "\"Best score=%.4f\" % res_gp.fun"
      ],
      "execution_count": 0,
      "outputs": []
    },
    {
      "metadata": {
        "colab_type": "code",
        "outputId": "af23779e-df81-4c01-ec5d-505908637740",
        "id": "Tho7Fn3LS3fv",
        "colab": {
          "base_uri": "https://localhost:8080/",
          "height": 118
        }
      },
      "cell_type": "code",
      "source": [
        "# print(\"\"\"Best parameters:\n",
        "# - n_estimators=%d\n",
        "# - max_features=%d\n",
        "# - max_depth=%d\n",
        "# - min_samples_split=%d\n",
        "# - min_samples_leaf=%d\n",
        "# - criterion = %s\"\"\" % (res_gp.x[0], res_gp.x[1], \n",
        "#                             res_gp.x[2], res_gp.x[3], \n",
        "#                             res_gp.x[4], res_gp.x[5]))\n",
        "\n",
        "print(\"\"\"Best parameters:\n",
        "- n_estimators=%d\n",
        "- max_features=%d\n",
        "- max_depth=%d\n",
        "- min_samples_split=%d\n",
        "- min_samples_leaf=%d\"\"\" % (res_gp.x[0], res_gp.x[1], \n",
        "                            res_gp.x[2], res_gp.x[3], \n",
        "                            res_gp.x[4]))"
      ],
      "execution_count": 0,
      "outputs": [
        {
          "output_type": "stream",
          "text": [
            "Best parameters:\n",
            "- n_estimators=1937\n",
            "- max_features=88\n",
            "- max_depth=5\n",
            "- min_samples_split=52\n",
            "- min_samples_leaf=2\n"
          ],
          "name": "stdout"
        }
      ]
    },
    {
      "metadata": {
        "colab_type": "code",
        "outputId": "58c32066-b28c-48d6-9285-25597f738a80",
        "id": "HUY18XTHS3fx",
        "colab": {
          "base_uri": "https://localhost:8080/",
          "height": 34
        }
      },
      "cell_type": "code",
      "source": [
        "i = 0\n",
        "l_rmspe = []\n",
        "l_mse = []\n",
        "l_rmse=[]\n",
        "\n",
        "while i <10:\n",
        "    x_train, x_test, y_train, y_test = train_test_split(df_all, y_au, test_size = 0.2)\n",
        "    m = RandomForestRegressor(n_estimators=res_gp.x[0], max_features=res_gp.x[1], max_depth = res_gp.x[2], \n",
        "                           min_samples_split = res_gp.x[3], min_samples_leaf = res_gp.x[4], n_jobs=-1, oob_score=True)\n",
        "    m.fit(x_train, y_train)\n",
        "    preds = m.predict(x_test)\n",
        "    l_rmspe.append(rmspe(preds, y_test))\n",
        "    l_mse.append(mean_squared_error(preds, y_test))\n",
        "    l_rmse.append(math.sqrt(mean_squared_error(preds, y_test)))\n",
        "    i+=1\n",
        "\n",
        "print(np.mean(l_rmspe), np.mean(l_mse), np.mean(l_rmse))"
      ],
      "execution_count": 0,
      "outputs": [
        {
          "output_type": "stream",
          "text": [
            "1.286904997539059 0.01364176928961763 0.11603934674522443\n"
          ],
          "name": "stdout"
        }
      ]
    },
    {
      "metadata": {
        "colab_type": "code",
        "outputId": "6869155b-9536-41db-e4d2-796c639f0f82",
        "id": "e9N_c_5WS3fy",
        "colab": {
          "base_uri": "https://localhost:8080/",
          "height": 1092
        }
      },
      "cell_type": "code",
      "source": [
        "feature_importances = pd.DataFrame(m.feature_importances_,\n",
        "                                   index = x_train.columns,\n",
        "                                    columns=['importance']).sort_values('importance',ascending=False)\n",
        "print(feature_importances)"
      ],
      "execution_count": 0,
      "outputs": [
        {
          "output_type": "stream",
          "text": [
            "       importance\n",
            "Au       0.836260\n",
            "K        0.033176\n",
            "Fe       0.027327\n",
            "S        0.022083\n",
            "Cu       0.017584\n",
            "Te       0.016158\n",
            "Al       0.008920\n",
            "Sb       0.007505\n",
            "As       0.004559\n",
            "Au_na    0.003650\n",
            "Ca       0.003197\n",
            "Ta       0.002985\n",
            "Mo       0.002312\n",
            "P        0.002288\n",
            "W        0.002105\n",
            "Se_na    0.001946\n",
            "Pb       0.001101\n",
            "Cr       0.000859\n",
            "Cd       0.000810\n",
            "Mn       0.000712\n",
            "Zn       0.000571\n",
            "Na       0.000480\n",
            "Mg       0.000458\n",
            "W_na     0.000392\n",
            "Cr_na    0.000387\n",
            "Ni       0.000365\n",
            "Si       0.000349\n",
            "Ti       0.000204\n",
            "Ba       0.000134\n",
            "Y        0.000129\n",
            "...           ...\n",
            "Sr_na    0.000000\n",
            "S_na     0.000000\n",
            "Ta_na    0.000000\n",
            "P_na     0.000000\n",
            "Th_na    0.000000\n",
            "Tl_na    0.000000\n",
            "V_na     0.000000\n",
            "Al_na    0.000000\n",
            "Ni_na    0.000000\n",
            "Nb_na    0.000000\n",
            "Li       0.000000\n",
            "Nb       0.000000\n",
            "Re       0.000000\n",
            "Sr       0.000000\n",
            "Th       0.000000\n",
            "As_na    0.000000\n",
            "B_na     0.000000\n",
            "Ba_na    0.000000\n",
            "Be_na    0.000000\n",
            "Bi_na    0.000000\n",
            "Ca_na    0.000000\n",
            "Cd_na    0.000000\n",
            "Fe_na    0.000000\n",
            "Hg_na    0.000000\n",
            "K_na     0.000000\n",
            "La_na    0.000000\n",
            "Li_na    0.000000\n",
            "Mn_na    0.000000\n",
            "Mo_na    0.000000\n",
            "Zr_na    0.000000\n",
            "\n",
            "[90 rows x 1 columns]\n"
          ],
          "name": "stdout"
        }
      ]
    },
    {
      "metadata": {
        "colab_type": "text",
        "id": "WqjhBt9-S3f0"
      },
      "cell_type": "markdown",
      "source": [
        "## Predicting agrec"
      ]
    },
    {
      "metadata": {
        "colab_type": "text",
        "id": "HvqxkNqVS3f0"
      },
      "cell_type": "markdown",
      "source": [
        "### Random Forest"
      ]
    },
    {
      "metadata": {
        "colab_type": "code",
        "id": "i9eJxLSFS3f1",
        "colab": {}
      },
      "cell_type": "code",
      "source": [
        "# initial rf model\n",
        "m = RandomForestRegressor(n_estimators=100, max_features=0.99, min_samples_leaf=2,\n",
        "                          n_jobs=-1, oob_score=True)"
      ],
      "execution_count": 0,
      "outputs": []
    },
    {
      "metadata": {
        "colab_type": "code",
        "id": "ce1GSWlwS3f8",
        "colab": {}
      },
      "cell_type": "code",
      "source": [
        "# defining search space\n",
        "space = [Integer(10,2000, name='n_estimators'),\n",
        "         Integer(1, n_features, name='max_features'),\n",
        "         Integer(1, 5, name='max_depth'),\n",
        "         Integer(2, 100, name='min_samples_split'),\n",
        "         Integer(1, 100, name='min_samples_leaf')]\n"
      ],
      "execution_count": 0,
      "outputs": []
    },
    {
      "metadata": {
        "colab_type": "code",
        "id": "52bnucnrS3f9",
        "colab": {}
      },
      "cell_type": "code",
      "source": [
        "# estimator parameters\n",
        "# @use_named_args(space)\n",
        "# def objective(**params):\n",
        "#     m.set_params(**params)\n",
        "\n",
        "#     return -np.mean(cross_val_score(m, df_all, y_ag, cv=5, n_jobs=-1,\n",
        "#                                     scoring=\"neg_mean_squared_error\"))"
      ],
      "execution_count": 0,
      "outputs": []
    },
    {
      "metadata": {
        "colab_type": "code",
        "id": "kZImTGUzS3f_",
        "colab": {}
      },
      "cell_type": "code",
      "source": [
        "# trying a different objective function\n",
        "@use_named_args(space)\n",
        "def objective(**params):\n",
        "    m.set_params(**params)\n",
        "    i = 0\n",
        "    l_rmse=[]\n",
        "    while i<10:\n",
        "        x_train, x_test, y_train, y_test = train_test_split(df_all, y_nac, test_size = 0.2)\n",
        "        m.fit(x_train, y_train)\n",
        "        preds = m.predict(x_test)\n",
        "        l_rmse.append(math.sqrt(mean_squared_error(preds, y_test)))\n",
        "        i+=1\n",
        "\n",
        "    return np.mean(l_rmse)"
      ],
      "execution_count": 0,
      "outputs": []
    },
    {
      "metadata": {
        "colab_type": "code",
        "id": "e5sGtza8S3gB",
        "colab": {}
      },
      "cell_type": "code",
      "source": [
        "from skopt import gp_minimize, forest_minimize, gbrt_minimize\n",
        "#res_gp = gp_minimize(objective, space, n_calls=50, random_state=0)\n",
        "#instead of gp_minimize can also use forest_minimize or gbrt_minimize\n",
        "\n",
        "%time res_gp = gp_minimize(objective, space, n_calls=50, random_state=0)\n",
        "\n",
        "\n",
        "\"Best score=%.4f\" % res_gp.fun"
      ],
      "execution_count": 0,
      "outputs": []
    },
    {
      "metadata": {
        "colab_type": "code",
        "outputId": "eba36091-99d8-4e1b-80e7-c401f66d4ec1",
        "id": "kX5B274HS3gB",
        "colab": {
          "base_uri": "https://localhost:8080/",
          "height": 118
        }
      },
      "cell_type": "code",
      "source": [
        "# print(\"\"\"Best parameters:\n",
        "# - n_estimators=%d\n",
        "# - max_features=%d\n",
        "# - max_depth=%d\n",
        "# - min_samples_split=%d\n",
        "# - min_samples_leaf=%d\n",
        "# - criterion = %s\"\"\" % (res_gp.x[0], res_gp.x[1], \n",
        "#                             res_gp.x[2], res_gp.x[3], \n",
        "#                             res_gp.x[4], res_gp.x[5]))\n",
        "\n",
        "print(\"\"\"Best parameters:\n",
        "- n_estimators=%d\n",
        "- max_features=%d\n",
        "- max_depth=%d\n",
        "- min_samples_split=%d\n",
        "- min_samples_leaf=%d\"\"\" % (res_gp.x[0], res_gp.x[1], \n",
        "                            res_gp.x[2], res_gp.x[3], \n",
        "                            res_gp.x[4]))"
      ],
      "execution_count": 0,
      "outputs": [
        {
          "output_type": "stream",
          "text": [
            "Best parameters:\n",
            "- n_estimators=960\n",
            "- max_features=53\n",
            "- max_depth=4\n",
            "- min_samples_split=2\n",
            "- min_samples_leaf=1\n"
          ],
          "name": "stdout"
        }
      ]
    },
    {
      "metadata": {
        "colab_type": "code",
        "outputId": "0c8be4e0-b633-4000-9f8d-18675a9f90c2",
        "id": "gWMzH2LuS3gF",
        "colab": {
          "base_uri": "https://localhost:8080/",
          "height": 34
        }
      },
      "cell_type": "code",
      "source": [
        "i = 0\n",
        "l_rmspe = []\n",
        "l_mse = []\n",
        "l_rmse=[]\n",
        "\n",
        "while i <10:\n",
        "    x_train, x_test, y_train, y_test = train_test_split(df_all, y_ag, test_size = 0.2)\n",
        "    m = RandomForestRegressor(n_estimators=res_gp.x[0], max_features=res_gp.x[1], max_depth = res_gp.x[2], \n",
        "                           min_samples_split = res_gp.x[3], min_samples_leaf = res_gp.x[4], n_jobs=-1, oob_score=True)\n",
        "    m.fit(x_train, y_train)\n",
        "    preds = m.predict(x_test)\n",
        "    l_rmspe.append(rmspe(preds, y_test))\n",
        "    l_mse.append(mean_squared_error(preds, y_test))\n",
        "    l_rmse.append(math.sqrt(mean_squared_error(preds, y_test)))\n",
        "    i+=1\n",
        "\n",
        "print(np.mean(l_rmspe), np.mean(l_mse), np.mean(l_rmse))\n",
        "    \n",
        "    \n",
        "\n"
      ],
      "execution_count": 0,
      "outputs": [
        {
          "output_type": "stream",
          "text": [
            "2.2737376228544406 0.03466100759994516 0.18596603002102324\n"
          ],
          "name": "stdout"
        }
      ]
    },
    {
      "metadata": {
        "colab_type": "code",
        "outputId": "1012f3ea-f14e-4a61-8961-de2f0411c4fe",
        "id": "YnFebpAFS3gG",
        "colab": {
          "base_uri": "https://localhost:8080/",
          "height": 1092
        }
      },
      "cell_type": "code",
      "source": [
        "feature_importances = pd.DataFrame(m.feature_importances_,\n",
        "                                   index = x_train.columns,\n",
        "                                    columns=['importance']).sort_values('importance',ascending=False)\n",
        "print(feature_importances)"
      ],
      "execution_count": 0,
      "outputs": [
        {
          "output_type": "stream",
          "text": [
            "       importance\n",
            "Au       0.431592\n",
            "Cu       0.239509\n",
            "S        0.047413\n",
            "Mn       0.037822\n",
            "As       0.036647\n",
            "Ca       0.033787\n",
            "Sb       0.021166\n",
            "Fe       0.018381\n",
            "Be       0.016239\n",
            "Cd       0.014230\n",
            "Pb       0.011871\n",
            "Zn       0.011489\n",
            "Mg       0.010002\n",
            "Al       0.007312\n",
            "P        0.006445\n",
            "K        0.005683\n",
            "Mo       0.005293\n",
            "Na       0.004474\n",
            "Ni       0.004303\n",
            "Bi       0.004300\n",
            "Cr       0.003647\n",
            "Ti       0.003632\n",
            "V        0.003195\n",
            "Tl       0.002577\n",
            "U        0.001981\n",
            "Te       0.001964\n",
            "Si       0.001605\n",
            "B        0.001535\n",
            "Zr       0.001284\n",
            "Se_na    0.001007\n",
            "...           ...\n",
            "As_na    0.000069\n",
            "Mg_na    0.000066\n",
            "Cu_na    0.000060\n",
            "Re_na    0.000056\n",
            "S_na     0.000056\n",
            "Be_na    0.000052\n",
            "Hg_na    0.000044\n",
            "Sb_na    0.000041\n",
            "Tl_na    0.000040\n",
            "Sn       0.000039\n",
            "Pd_na    0.000034\n",
            "Mn_na    0.000032\n",
            "Li_na    0.000031\n",
            "Sc       0.000026\n",
            "Ni_na    0.000026\n",
            "Sr_na    0.000021\n",
            "Th_na    0.000021\n",
            "V_na     0.000020\n",
            "Zr_na    0.000020\n",
            "Mo_na    0.000019\n",
            "Ba_na    0.000017\n",
            "Na_na    0.000016\n",
            "Fe_na    0.000014\n",
            "Y_na     0.000010\n",
            "Ta_na    0.000010\n",
            "Bi_na    0.000010\n",
            "Co_na    0.000009\n",
            "Ca_na    0.000006\n",
            "Au_na    0.000006\n",
            "Al_na    0.000000\n",
            "\n",
            "[90 rows x 1 columns]\n"
          ],
          "name": "stdout"
        }
      ]
    },
    {
      "metadata": {
        "colab_type": "text",
        "id": "ApqQJp2KS3gI"
      },
      "cell_type": "markdown",
      "source": [
        "## Predicting nacnc"
      ]
    },
    {
      "metadata": {
        "colab_type": "text",
        "id": "-Hq2aulgS3gJ"
      },
      "cell_type": "markdown",
      "source": [
        "### All info"
      ]
    },
    {
      "metadata": {
        "colab_type": "code",
        "id": "yNvF48fuS3gJ",
        "colab": {}
      },
      "cell_type": "code",
      "source": [
        "m = RandomForestRegressor(n_estimators=100, max_features=0.99, min_samples_leaf=2,\n",
        "                          n_jobs=-1, oob_score=True)"
      ],
      "execution_count": 0,
      "outputs": []
    },
    {
      "metadata": {
        "colab_type": "code",
        "id": "fg0QRZYLS3gM",
        "colab": {}
      },
      "cell_type": "code",
      "source": [
        "# defining search space\n",
        "space = [Integer(100,2000, name='n_estimators'),\n",
        "         Integer(1, n_features, name='max_features'),\n",
        "         Integer(1, 5, name='max_depth'),\n",
        "         Integer(2, 100, name='min_samples_split'),\n",
        "         Integer(1, 100, name='min_samples_leaf')]\n"
      ],
      "execution_count": 0,
      "outputs": []
    },
    {
      "metadata": {
        "colab_type": "code",
        "id": "MG9y2vxiS3gN",
        "colab": {}
      },
      "cell_type": "code",
      "source": [
        "# estimator parameters\n",
        "# @use_named_args(space)\n",
        "# def objective(**params):\n",
        "#     m.set_params(**params)\n",
        "\n",
        "#     return -np.mean(cross_val_score(m, df_all, y_nac, cv=5, n_jobs=-1,\n",
        "#                                     scoring=\"neg_mean_squared_error\"))"
      ],
      "execution_count": 0,
      "outputs": []
    },
    {
      "metadata": {
        "colab_type": "code",
        "id": "1t2cKO7PS3gO",
        "colab": {}
      },
      "cell_type": "code",
      "source": [
        "# trying a different objective function\n",
        "@use_named_args(space)\n",
        "def objective(**params):\n",
        "    m.set_params(**params)\n",
        "    i = 0\n",
        "    l_rmse=[]\n",
        "    while i<10:\n",
        "        x_train, x_test, y_train, y_test = train_test_split(df_all, y_nac, test_size = 0.2)\n",
        "        m.fit(x_train, y_train)\n",
        "        preds = m.predict(x_test)\n",
        "        l_rmse.append(math.sqrt(mean_squared_error(preds, y_test)))\n",
        "        i+=1\n",
        "\n",
        "    return np.mean(l_rmse)"
      ],
      "execution_count": 0,
      "outputs": []
    },
    {
      "metadata": {
        "colab_type": "code",
        "outputId": "199190c2-52c8-4e63-eb01-d6a6288c7079",
        "id": "h-OOjn4uS3gP",
        "colab": {
          "base_uri": "https://localhost:8080/",
          "height": 188
        }
      },
      "cell_type": "code",
      "source": [
        "from skopt import gp_minimize, forest_minimize, gbrt_minimize\n",
        "#res_gp = gp_minimize(objective, space, n_calls=50, random_state=0)\n",
        "#instead of gp_minimize can also use forest_minimize or gbrt_minimize\n",
        "\n",
        "%time res_gp = gp_minimize(objective, space, n_calls=50, random_state=0)\n",
        "\n",
        "\n",
        "\"Best score=%.4f\" % res_gp.fun"
      ],
      "execution_count": 0,
      "outputs": [
        {
          "output_type": "stream",
          "text": [
            "/usr/local/lib/python3.6/dist-packages/skopt/optimizer/optimizer.py:399: UserWarning: The objective has been evaluated at this point before.\n",
            "  warnings.warn(\"The objective has been evaluated \"\n",
            "/usr/local/lib/python3.6/dist-packages/skopt/optimizer/optimizer.py:399: UserWarning: The objective has been evaluated at this point before.\n",
            "  warnings.warn(\"The objective has been evaluated \"\n",
            "/usr/local/lib/python3.6/dist-packages/skopt/optimizer/optimizer.py:399: UserWarning: The objective has been evaluated at this point before.\n",
            "  warnings.warn(\"The objective has been evaluated \"\n"
          ],
          "name": "stderr"
        },
        {
          "output_type": "stream",
          "text": [
            "CPU times: user 28min 41s, sys: 2min 24s, total: 31min 6s\n",
            "Wall time: 21min 29s\n"
          ],
          "name": "stdout"
        },
        {
          "output_type": "execute_result",
          "data": {
            "text/plain": [
              "'Best score=1.7564'"
            ]
          },
          "metadata": {
            "tags": []
          },
          "execution_count": 144
        }
      ]
    },
    {
      "metadata": {
        "colab_type": "code",
        "outputId": "2d9a89df-c360-4d03-b72b-f7c5a3c05833",
        "id": "AvCQrrcZS3gS",
        "colab": {
          "base_uri": "https://localhost:8080/",
          "height": 118
        }
      },
      "cell_type": "code",
      "source": [
        "# print(\"\"\"Best parameters:\n",
        "# - n_estimators=%d\n",
        "# - max_features=%d\n",
        "# - max_depth=%d\n",
        "# - min_samples_split=%d\n",
        "# - min_samples_leaf=%d\n",
        "# - criterion = %s\"\"\" % (res_gp.x[0], res_gp.x[1], \n",
        "#                             res_gp.x[2], res_gp.x[3], \n",
        "#                             res_gp.x[4], res_gp.x[5]))\n",
        "\n",
        "print(\"\"\"Best parameters:\n",
        "- n_estimators=%d\n",
        "- max_features=%d\n",
        "- max_depth=%d\n",
        "- min_samples_split=%d\n",
        "- min_samples_leaf=%d\"\"\" % (res_gp.x[0], res_gp.x[1], \n",
        "                            res_gp.x[2], res_gp.x[3], \n",
        "                            res_gp.x[4]))"
      ],
      "execution_count": 0,
      "outputs": [
        {
          "output_type": "stream",
          "text": [
            "Best parameters:\n",
            "- n_estimators=100\n",
            "- max_features=57\n",
            "- max_depth=5\n",
            "- min_samples_split=2\n",
            "- min_samples_leaf=1\n"
          ],
          "name": "stdout"
        }
      ]
    },
    {
      "metadata": {
        "colab_type": "code",
        "outputId": "99cd590c-c365-4515-83cd-c82e3641e62a",
        "id": "I0FqeFa4S3gU",
        "colab": {
          "base_uri": "https://localhost:8080/",
          "height": 34
        }
      },
      "cell_type": "code",
      "source": [
        "i = 0\n",
        "l_rmspe = []\n",
        "l_mse = []\n",
        "l_rmse=[]\n",
        "\n",
        "while i <10:\n",
        "    x_train, x_test, y_train, y_test = train_test_split(df_all, y_nac, test_size = 0.2)\n",
        "    m = RandomForestRegressor(n_estimators=res_gp.x[0], max_features=res_gp.x[1], max_depth = res_gp.x[2],\n",
        "                              min_samples_split = res_gp.x[3], min_samples_leaf=res_gp.x[4],\n",
        "                              n_jobs=-1, oob_score=True)\n",
        "    m.fit(x_train, y_train)\n",
        "    preds = m.predict(x_test)\n",
        "    l_rmspe.append(rmspe(preds, y_test))\n",
        "    l_mse.append(mean_squared_error(preds, y_test))\n",
        "    l_rmse.append(math.sqrt(mean_squared_error(preds, y_test)))\n",
        "    i+=1\n",
        "\n",
        "print(np.mean(l_rmspe), np.mean(l_mse), np.mean(l_rmse))"
      ],
      "execution_count": 0,
      "outputs": [
        {
          "output_type": "stream",
          "text": [
            "10.738613303836155 3.2574685427504675 1.8035676318487366\n"
          ],
          "name": "stdout"
        }
      ]
    },
    {
      "metadata": {
        "colab_type": "code",
        "outputId": "5c6bab26-43f7-451b-d340-6b963b026530",
        "id": "KCWXro6SS3gV",
        "colab": {
          "base_uri": "https://localhost:8080/",
          "height": 1092
        }
      },
      "cell_type": "code",
      "source": [
        "feature_importances = pd.DataFrame(m.feature_importances_,\n",
        "                                   index = x_train.columns,\n",
        "                                    columns=['importance']).sort_values('importance',ascending=False)\n",
        "print(feature_importances)"
      ],
      "execution_count": 0,
      "outputs": [
        {
          "output_type": "stream",
          "text": [
            "         importance\n",
            "Au     5.279943e-01\n",
            "Si     1.125812e-01\n",
            "Cr     1.033664e-01\n",
            "Sb     5.100049e-02\n",
            "Na     4.052737e-02\n",
            "Cu     2.987694e-02\n",
            "Bi     2.530791e-02\n",
            "Ni     9.466079e-03\n",
            "Pb     8.312653e-03\n",
            "As     6.735348e-03\n",
            "Fe     6.120890e-03\n",
            "Zn     5.841035e-03\n",
            "Pd     5.538000e-03\n",
            "Ti     5.301328e-03\n",
            "Hg     5.247688e-03\n",
            "P      5.062125e-03\n",
            "Mo     4.685854e-03\n",
            "Mn     4.487538e-03\n",
            "Cd     4.401127e-03\n",
            "Ca     3.839428e-03\n",
            "S      3.689766e-03\n",
            "Al     3.680112e-03\n",
            "Be     2.988613e-03\n",
            "K      2.498622e-03\n",
            "Mg     1.598747e-03\n",
            "Te     1.504320e-03\n",
            "B_na   1.481831e-03\n",
            "Tl     1.345456e-03\n",
            "Au_na  1.318773e-03\n",
            "Ba_na  1.244228e-03\n",
            "...             ...\n",
            "Sc_na  1.748098e-05\n",
            "La     1.729565e-05\n",
            "U_na   1.402341e-05\n",
            "Ta_na  1.348738e-05\n",
            "Ca_na  1.234979e-05\n",
            "Si_na  9.937605e-06\n",
            "Hg_na  8.833529e-06\n",
            "Te_na  3.393763e-06\n",
            "Fe_na  3.218255e-06\n",
            "Sc     1.824906e-06\n",
            "Co_na  1.350642e-07\n",
            "Pb_na  0.000000e+00\n",
            "Th_na  0.000000e+00\n",
            "Zn_na  0.000000e+00\n",
            "Y_na   0.000000e+00\n",
            "W_na   0.000000e+00\n",
            "Ta     0.000000e+00\n",
            "Th     0.000000e+00\n",
            "Nb     0.000000e+00\n",
            "Ti_na  0.000000e+00\n",
            "As_na  0.000000e+00\n",
            "Re_na  0.000000e+00\n",
            "Be_na  0.000000e+00\n",
            "Cd_na  0.000000e+00\n",
            "Cu_na  0.000000e+00\n",
            "K_na   0.000000e+00\n",
            "Mo_na  0.000000e+00\n",
            "Sb_na  0.000000e+00\n",
            "S_na   0.000000e+00\n",
            "La_na  0.000000e+00\n",
            "\n",
            "[90 rows x 1 columns]\n"
          ],
          "name": "stdout"
        }
      ]
    },
    {
      "metadata": {
        "colab_type": "text",
        "id": "ZnhSTKkCS3gY"
      },
      "cell_type": "markdown",
      "source": [
        "## Observations\n",
        "\n",
        "RMSPE is almost 5% higher than other tests, but RMSE is around the same\n",
        "\n",
        "Can be explained by RMSPE uses $\\sqrt{\\sum_{i=1}^{n}{(\\dfrac{\\hat{y}_i-y_i}{y_i}})^2}$  and RMSE uses $\\sqrt{\\sum_{i=1}^{n}{(\\hat{y}_i-y_i)^2}}$.\n",
        "\n",
        "RMSE penalize the squared difference between $y_i$ and $\\hat{y}_i$ equally whereas RMSPE will incur a higher penalty if $y_i$ is lower\n",
        "\n",
        "E.g. RMSE will incurr the same loss for $y_i = 10, \\hat{y}_i = 9$ and $y_i = 2, \\hat{y}_i = 1$ (both will have RMSE of 1) whereas RMSPE incurrs higher loss for $y_i = 2, \\hat{y}_i = 1$ (RMSPE of 0.5) than $y_i = 10, \\hat{y}_i = 9$ (RMSPE of 0.1)\n",
        "\n"
      ]
    },
    {
      "metadata": {
        "colab_type": "code",
        "id": "sva7BXVMS3gY",
        "colab": {}
      },
      "cell_type": "code",
      "source": [
        ""
      ],
      "execution_count": 0,
      "outputs": []
    },
    {
      "metadata": {
        "id": "UyIwuL5OfVH5",
        "colab_type": "text"
      },
      "cell_type": "markdown",
      "source": [
        ""
      ]
    }
  ]
}